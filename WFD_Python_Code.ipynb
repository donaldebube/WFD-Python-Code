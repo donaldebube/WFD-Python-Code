{
 "cells": [
  {
   "attachments": {},
   "cell_type": "markdown",
   "metadata": {},
   "source": [
    "# Women First Digital Technical Assessment"
   ]
  },
  {
   "attachments": {},
   "cell_type": "markdown",
   "metadata": {},
   "source": [
    "### Introduction\n",
    "\n",
    "Go through the data to know the intial number of rows and columns.\n",
    "\n",
    "Notice the rows and columns with null values and evaluate how best to clean the dataset and prepare it for analysis."
   ]
  },
  {
   "attachments": {},
   "cell_type": "markdown",
   "metadata": {},
   "source": [
    "### Ask Phase:\n",
    "\n",
    "We asked the following questions here:\n",
    "\n",
    "- What is the age, gender, and location distribution of patients seeking services?\n",
    "- "
   ]
  },
  {
   "cell_type": "code",
   "execution_count": 2,
   "metadata": {},
   "outputs": [],
   "source": [
    "# Import Pandas\n",
    "import pandas as pd\n"
   ]
  },
  {
   "cell_type": "code",
   "execution_count": 3,
   "metadata": {},
   "outputs": [],
   "source": [
    "#Upload 1st dataset\n",
    "wfd = pd.read_excel(\"C:/Users/USER/Videos/Data Analytics/Women First Digital Assessment/Spreadsheets_Technical assignment_Data Anlayst 23/counselling_referral_data.xlsx\")\n"
   ]
  },
  {
   "cell_type": "code",
   "execution_count": 4,
   "metadata": {},
   "outputs": [
    {
     "data": {
      "text/html": [
       "<div>\n",
       "<style scoped>\n",
       "    .dataframe tbody tr th:only-of-type {\n",
       "        vertical-align: middle;\n",
       "    }\n",
       "\n",
       "    .dataframe tbody tr th {\n",
       "        vertical-align: top;\n",
       "    }\n",
       "\n",
       "    .dataframe thead th {\n",
       "        text-align: right;\n",
       "    }\n",
       "</style>\n",
       "<table border=\"1\" class=\"dataframe\">\n",
       "  <thead>\n",
       "    <tr style=\"text-align: right;\">\n",
       "      <th></th>\n",
       "      <th>Ticket ID</th>\n",
       "      <th>Status</th>\n",
       "      <th>Source</th>\n",
       "      <th>Agent</th>\n",
       "      <th>Group</th>\n",
       "      <th>Created time</th>\n",
       "      <th>Month</th>\n",
       "      <th>Last update time</th>\n",
       "      <th>Resolution time (in hrs)</th>\n",
       "      <th>Agent interactions</th>\n",
       "      <th>...</th>\n",
       "      <th>D&amp;E</th>\n",
       "      <th>Induction</th>\n",
       "      <th>PAC</th>\n",
       "      <th>Referral</th>\n",
       "      <th>Ability to pay for referral services/products</th>\n",
       "      <th>Reason for not referring</th>\n",
       "      <th>Reason for referral</th>\n",
       "      <th>ref-Subreason 1</th>\n",
       "      <th>Referred to on-the-ground org</th>\n",
       "      <th>Referred to direct provider</th>\n",
       "    </tr>\n",
       "  </thead>\n",
       "  <tbody>\n",
       "    <tr>\n",
       "      <th>0</th>\n",
       "      <td>92854</td>\n",
       "      <td>Waiting on User</td>\n",
       "      <td>Email</td>\n",
       "      <td>Julia L</td>\n",
       "      <td>Spanish</td>\n",
       "      <td>2022-09-01 00:01:23</td>\n",
       "      <td>September</td>\n",
       "      <td>2022-09-01 16:32:04</td>\n",
       "      <td>00:00:00</td>\n",
       "      <td>1</td>\n",
       "      <td>...</td>\n",
       "      <td>False</td>\n",
       "      <td>False</td>\n",
       "      <td>False</td>\n",
       "      <td>No</td>\n",
       "      <td>NaN</td>\n",
       "      <td>Suspected Pregnancy</td>\n",
       "      <td>NaN</td>\n",
       "      <td>NaN</td>\n",
       "      <td>False</td>\n",
       "      <td>False</td>\n",
       "    </tr>\n",
       "    <tr>\n",
       "      <th>1</th>\n",
       "      <td>92855</td>\n",
       "      <td>Evaluation sent</td>\n",
       "      <td>Chat</td>\n",
       "      <td>No Agent</td>\n",
       "      <td>Spanish</td>\n",
       "      <td>2022-09-01 00:05:46</td>\n",
       "      <td>September</td>\n",
       "      <td>2022-09-27 18:12:41</td>\n",
       "      <td>00:00:00</td>\n",
       "      <td>0</td>\n",
       "      <td>...</td>\n",
       "      <td>False</td>\n",
       "      <td>False</td>\n",
       "      <td>False</td>\n",
       "      <td>NaN</td>\n",
       "      <td>NaN</td>\n",
       "      <td>NaN</td>\n",
       "      <td>NaN</td>\n",
       "      <td>NaN</td>\n",
       "      <td>False</td>\n",
       "      <td>False</td>\n",
       "    </tr>\n",
       "    <tr>\n",
       "      <th>2</th>\n",
       "      <td>92856</td>\n",
       "      <td>Evaluation sent</td>\n",
       "      <td>Email</td>\n",
       "      <td>No Agent</td>\n",
       "      <td>Spanish</td>\n",
       "      <td>2022-09-01 00:10:48</td>\n",
       "      <td>September</td>\n",
       "      <td>2022-09-27 18:12:41</td>\n",
       "      <td>00:00:00</td>\n",
       "      <td>0</td>\n",
       "      <td>...</td>\n",
       "      <td>False</td>\n",
       "      <td>False</td>\n",
       "      <td>False</td>\n",
       "      <td>NaN</td>\n",
       "      <td>NaN</td>\n",
       "      <td>NaN</td>\n",
       "      <td>NaN</td>\n",
       "      <td>NaN</td>\n",
       "      <td>False</td>\n",
       "      <td>False</td>\n",
       "    </tr>\n",
       "    <tr>\n",
       "      <th>3</th>\n",
       "      <td>101202</td>\n",
       "      <td>Waiting on KQ - reminder</td>\n",
       "      <td>Chat</td>\n",
       "      <td>Lucy P</td>\n",
       "      <td>Spanish</td>\n",
       "      <td>2022-09-23 18:20:24</td>\n",
       "      <td>September</td>\n",
       "      <td>2022-09-30 20:23:28</td>\n",
       "      <td>00:00:00</td>\n",
       "      <td>1</td>\n",
       "      <td>...</td>\n",
       "      <td>False</td>\n",
       "      <td>False</td>\n",
       "      <td>False</td>\n",
       "      <td>No</td>\n",
       "      <td>NaN</td>\n",
       "      <td>Dropped</td>\n",
       "      <td>NaN</td>\n",
       "      <td>NaN</td>\n",
       "      <td>False</td>\n",
       "      <td>False</td>\n",
       "    </tr>\n",
       "    <tr>\n",
       "      <th>4</th>\n",
       "      <td>101407</td>\n",
       "      <td>Waiting on KQ</td>\n",
       "      <td>Chat</td>\n",
       "      <td>No Agent</td>\n",
       "      <td>No Group</td>\n",
       "      <td>2022-09-24 12:16:03</td>\n",
       "      <td>September</td>\n",
       "      <td>2022-09-24 12:16:03</td>\n",
       "      <td>00:00:00</td>\n",
       "      <td>0</td>\n",
       "      <td>...</td>\n",
       "      <td>False</td>\n",
       "      <td>False</td>\n",
       "      <td>False</td>\n",
       "      <td>NaN</td>\n",
       "      <td>NaN</td>\n",
       "      <td>NaN</td>\n",
       "      <td>NaN</td>\n",
       "      <td>NaN</td>\n",
       "      <td>False</td>\n",
       "      <td>False</td>\n",
       "    </tr>\n",
       "    <tr>\n",
       "      <th>...</th>\n",
       "      <td>...</td>\n",
       "      <td>...</td>\n",
       "      <td>...</td>\n",
       "      <td>...</td>\n",
       "      <td>...</td>\n",
       "      <td>...</td>\n",
       "      <td>...</td>\n",
       "      <td>...</td>\n",
       "      <td>...</td>\n",
       "      <td>...</td>\n",
       "      <td>...</td>\n",
       "      <td>...</td>\n",
       "      <td>...</td>\n",
       "      <td>...</td>\n",
       "      <td>...</td>\n",
       "      <td>...</td>\n",
       "      <td>...</td>\n",
       "      <td>...</td>\n",
       "      <td>...</td>\n",
       "      <td>...</td>\n",
       "      <td>...</td>\n",
       "    </tr>\n",
       "    <tr>\n",
       "      <th>2331</th>\n",
       "      <td>137318</td>\n",
       "      <td>Waiting on KQ</td>\n",
       "      <td>Email</td>\n",
       "      <td>No Agent</td>\n",
       "      <td>English</td>\n",
       "      <td>2022-12-31 21:34:30</td>\n",
       "      <td>December</td>\n",
       "      <td>2022-12-31 21:34:30</td>\n",
       "      <td>00:00:00</td>\n",
       "      <td>0</td>\n",
       "      <td>...</td>\n",
       "      <td>False</td>\n",
       "      <td>False</td>\n",
       "      <td>False</td>\n",
       "      <td>NaN</td>\n",
       "      <td>NaN</td>\n",
       "      <td>NaN</td>\n",
       "      <td>NaN</td>\n",
       "      <td>NaN</td>\n",
       "      <td>False</td>\n",
       "      <td>False</td>\n",
       "    </tr>\n",
       "    <tr>\n",
       "      <th>2332</th>\n",
       "      <td>137319</td>\n",
       "      <td>Waiting on KQ</td>\n",
       "      <td>Email</td>\n",
       "      <td>No Agent</td>\n",
       "      <td>Portuguese</td>\n",
       "      <td>2022-12-31 21:38:34</td>\n",
       "      <td>December</td>\n",
       "      <td>2022-12-31 21:38:35</td>\n",
       "      <td>00:00:00</td>\n",
       "      <td>0</td>\n",
       "      <td>...</td>\n",
       "      <td>False</td>\n",
       "      <td>False</td>\n",
       "      <td>False</td>\n",
       "      <td>NaN</td>\n",
       "      <td>NaN</td>\n",
       "      <td>NaN</td>\n",
       "      <td>NaN</td>\n",
       "      <td>NaN</td>\n",
       "      <td>False</td>\n",
       "      <td>False</td>\n",
       "    </tr>\n",
       "    <tr>\n",
       "      <th>2333</th>\n",
       "      <td>137320</td>\n",
       "      <td>Closed</td>\n",
       "      <td>Chat</td>\n",
       "      <td>Hellena Brinas</td>\n",
       "      <td>English</td>\n",
       "      <td>2022-12-31 21:44:31</td>\n",
       "      <td>December</td>\n",
       "      <td>2023-01-03 07:02:51</td>\n",
       "      <td>16:02:51</td>\n",
       "      <td>0</td>\n",
       "      <td>...</td>\n",
       "      <td>False</td>\n",
       "      <td>False</td>\n",
       "      <td>False</td>\n",
       "      <td>NaN</td>\n",
       "      <td>NaN</td>\n",
       "      <td>NaN</td>\n",
       "      <td>NaN</td>\n",
       "      <td>NaN</td>\n",
       "      <td>False</td>\n",
       "      <td>False</td>\n",
       "    </tr>\n",
       "    <tr>\n",
       "      <th>2334</th>\n",
       "      <td>137321</td>\n",
       "      <td>Waiting on KQ</td>\n",
       "      <td>Chat</td>\n",
       "      <td>No Agent</td>\n",
       "      <td>Spanish</td>\n",
       "      <td>2022-12-31 22:47:44</td>\n",
       "      <td>December</td>\n",
       "      <td>2022-12-31 22:47:45</td>\n",
       "      <td>00:00:00</td>\n",
       "      <td>0</td>\n",
       "      <td>...</td>\n",
       "      <td>False</td>\n",
       "      <td>False</td>\n",
       "      <td>False</td>\n",
       "      <td>NaN</td>\n",
       "      <td>NaN</td>\n",
       "      <td>NaN</td>\n",
       "      <td>NaN</td>\n",
       "      <td>NaN</td>\n",
       "      <td>False</td>\n",
       "      <td>False</td>\n",
       "    </tr>\n",
       "    <tr>\n",
       "      <th>2335</th>\n",
       "      <td>137322</td>\n",
       "      <td>Waiting on KQ</td>\n",
       "      <td>Chat</td>\n",
       "      <td>No Agent</td>\n",
       "      <td>No Group</td>\n",
       "      <td>2022-12-31 23:05:20</td>\n",
       "      <td>December</td>\n",
       "      <td>2022-12-31 23:05:20</td>\n",
       "      <td>00:00:00</td>\n",
       "      <td>0</td>\n",
       "      <td>...</td>\n",
       "      <td>False</td>\n",
       "      <td>False</td>\n",
       "      <td>False</td>\n",
       "      <td>NaN</td>\n",
       "      <td>NaN</td>\n",
       "      <td>NaN</td>\n",
       "      <td>NaN</td>\n",
       "      <td>NaN</td>\n",
       "      <td>False</td>\n",
       "      <td>False</td>\n",
       "    </tr>\n",
       "  </tbody>\n",
       "</table>\n",
       "<p>2336 rows × 45 columns</p>\n",
       "</div>"
      ],
      "text/plain": [
       "      Ticket ID                    Status Source           Agent       Group  \\\n",
       "0         92854           Waiting on User  Email         Julia L     Spanish   \n",
       "1         92855           Evaluation sent   Chat        No Agent     Spanish   \n",
       "2         92856           Evaluation sent  Email        No Agent     Spanish   \n",
       "3        101202  Waiting on KQ - reminder   Chat          Lucy P     Spanish   \n",
       "4        101407             Waiting on KQ   Chat        No Agent    No Group   \n",
       "...         ...                       ...    ...             ...         ...   \n",
       "2331     137318             Waiting on KQ  Email        No Agent     English   \n",
       "2332     137319             Waiting on KQ  Email        No Agent  Portuguese   \n",
       "2333     137320                    Closed   Chat  Hellena Brinas     English   \n",
       "2334     137321             Waiting on KQ   Chat        No Agent     Spanish   \n",
       "2335     137322             Waiting on KQ   Chat        No Agent    No Group   \n",
       "\n",
       "             Created time      Month     Last update time  \\\n",
       "0     2022-09-01 00:01:23  September  2022-09-01 16:32:04   \n",
       "1     2022-09-01 00:05:46  September  2022-09-27 18:12:41   \n",
       "2     2022-09-01 00:10:48  September  2022-09-27 18:12:41   \n",
       "3     2022-09-23 18:20:24  September  2022-09-30 20:23:28   \n",
       "4     2022-09-24 12:16:03  September  2022-09-24 12:16:03   \n",
       "...                   ...        ...                  ...   \n",
       "2331  2022-12-31 21:34:30   December  2022-12-31 21:34:30   \n",
       "2332  2022-12-31 21:38:34   December  2022-12-31 21:38:35   \n",
       "2333  2022-12-31 21:44:31   December  2023-01-03 07:02:51   \n",
       "2334  2022-12-31 22:47:44   December  2022-12-31 22:47:45   \n",
       "2335  2022-12-31 23:05:20   December  2022-12-31 23:05:20   \n",
       "\n",
       "     Resolution time (in hrs)  Agent interactions  ...    D&E Induction  \\\n",
       "0                    00:00:00                   1  ...  False     False   \n",
       "1                    00:00:00                   0  ...  False     False   \n",
       "2                    00:00:00                   0  ...  False     False   \n",
       "3                    00:00:00                   1  ...  False     False   \n",
       "4                    00:00:00                   0  ...  False     False   \n",
       "...                       ...                 ...  ...    ...       ...   \n",
       "2331                 00:00:00                   0  ...  False     False   \n",
       "2332                 00:00:00                   0  ...  False     False   \n",
       "2333                 16:02:51                   0  ...  False     False   \n",
       "2334                 00:00:00                   0  ...  False     False   \n",
       "2335                 00:00:00                   0  ...  False     False   \n",
       "\n",
       "        PAC Referral   Ability to pay for referral services/products  \\\n",
       "0     False        No                                            NaN   \n",
       "1     False       NaN                                            NaN   \n",
       "2     False       NaN                                            NaN   \n",
       "3     False        No                                            NaN   \n",
       "4     False       NaN                                            NaN   \n",
       "...     ...       ...                                            ...   \n",
       "2331  False       NaN                                            NaN   \n",
       "2332  False       NaN                                            NaN   \n",
       "2333  False       NaN                                            NaN   \n",
       "2334  False       NaN                                            NaN   \n",
       "2335  False       NaN                                            NaN   \n",
       "\n",
       "     Reason for not referring Reason for referral ref-Subreason 1  \\\n",
       "0         Suspected Pregnancy                 NaN             NaN   \n",
       "1                         NaN                 NaN             NaN   \n",
       "2                         NaN                 NaN             NaN   \n",
       "3                     Dropped                 NaN             NaN   \n",
       "4                         NaN                 NaN             NaN   \n",
       "...                       ...                 ...             ...   \n",
       "2331                      NaN                 NaN             NaN   \n",
       "2332                      NaN                 NaN             NaN   \n",
       "2333                      NaN                 NaN             NaN   \n",
       "2334                      NaN                 NaN             NaN   \n",
       "2335                      NaN                 NaN             NaN   \n",
       "\n",
       "     Referred to on-the-ground org  Referred to direct provider  \n",
       "0                            False                        False  \n",
       "1                            False                        False  \n",
       "2                            False                        False  \n",
       "3                            False                        False  \n",
       "4                            False                        False  \n",
       "...                            ...                          ...  \n",
       "2331                         False                        False  \n",
       "2332                         False                        False  \n",
       "2333                         False                        False  \n",
       "2334                         False                        False  \n",
       "2335                         False                        False  \n",
       "\n",
       "[2336 rows x 45 columns]"
      ]
     },
     "execution_count": 4,
     "metadata": {},
     "output_type": "execute_result"
    }
   ],
   "source": [
    "#Check complete table 1st dataset\n",
    "wfd\n"
   ]
  },
  {
   "cell_type": "code",
   "execution_count": 5,
   "metadata": {},
   "outputs": [
    {
     "data": {
      "text/plain": [
       "(2336, 45)"
      ]
     },
     "execution_count": 5,
     "metadata": {},
     "output_type": "execute_result"
    }
   ],
   "source": [
    "#Verify the number of rows and columns\n",
    "#There are 2336 nrows and 45 columns\n",
    "wfd.shape"
   ]
  },
  {
   "attachments": {},
   "cell_type": "markdown",
   "metadata": {},
   "source": [
    "### Clean The Dataset\n",
    "\n",
    "Find all the Null Values in the dataset and perform specific to each column to eliminate null values."
   ]
  },
  {
   "attachments": {},
   "cell_type": "markdown",
   "metadata": {},
   "source": [
    "#### Step 1: Delete columns with a large amount of null values"
   ]
  },
  {
   "cell_type": "code",
   "execution_count": 6,
   "metadata": {},
   "outputs": [
    {
     "data": {
      "text/plain": [
       "Ticket ID                                           0\n",
       "Status                                              0\n",
       "Source                                              0\n",
       "Agent                                               0\n",
       "Group                                               0\n",
       "Created time                                        0\n",
       "Month                                               0\n",
       "Last update time                                    0\n",
       "Resolution time (in hrs)                            0\n",
       "Agent interactions                                  0\n",
       "Customer interactions                               0\n",
       "First response status                            1749\n",
       "Tags                                             1045\n",
       "Countries (NEW)                                  1763\n",
       "Region                                           2336\n",
       "Agent 2                                          2248\n",
       "Agent 3                                          2325\n",
       "Language                                          578\n",
       "City                                             1972\n",
       "Age                                              2302\n",
       "Gestational weeks at first contact               1952\n",
       "+ days                                           2049\n",
       "Main reason for contact                          1643\n",
       "Subreason 1                                      2091\n",
       "Subreason 2                                      2258\n",
       "2nd reason for contact                           2097\n",
       "2nd Subreason 1                                  2140\n",
       "3rd reason for contact                           2298\n",
       "3rd Subreason 1                                  2307\n",
       "In possession of pills                           1969\n",
       "Kind of pills                                    2246\n",
       "Amount of pills                                  2273\n",
       "Abortion method counselled on                    1924\n",
       "MA                                                  0\n",
       "MVA/EVA                                             0\n",
       "D&E                                                 0\n",
       "Induction                                           0\n",
       "PAC                                                 0\n",
       "Referral                                         1648\n",
       "Ability to pay for referral services/products    2333\n",
       "Reason for not referring                         2016\n",
       "Reason for referral                              1939\n",
       "ref-Subreason 1                                  2334\n",
       "Referred to on-the-ground org                       0\n",
       "Referred to direct provider                         0\n",
       "dtype: int64"
      ]
     },
     "execution_count": 6,
     "metadata": {},
     "output_type": "execute_result"
    }
   ],
   "source": [
    "#List of columns with null values\n",
    "wfd.isna().sum()"
   ]
  },
  {
   "cell_type": "code",
   "execution_count": 7,
   "metadata": {},
   "outputs": [
    {
     "data": {
      "text/plain": [
       "Ticket ID                                        2336\n",
       "Status                                           2336\n",
       "Source                                           2336\n",
       "Agent                                            2336\n",
       "Group                                            2336\n",
       "Created time                                     2336\n",
       "Month                                            2336\n",
       "Last update time                                 2336\n",
       "Resolution time (in hrs)                         2336\n",
       "Agent interactions                               2336\n",
       "Customer interactions                            2336\n",
       "First response status                             587\n",
       "Tags                                             1291\n",
       "Countries (NEW)                                   573\n",
       "Region                                              0\n",
       "Agent 2                                            88\n",
       "Agent 3                                            11\n",
       "Language                                         1758\n",
       "City                                              364\n",
       "Age                                                34\n",
       "Gestational weeks at first contact                384\n",
       "+ days                                            287\n",
       "Main reason for contact                           693\n",
       "Subreason 1                                       245\n",
       "Subreason 2                                        78\n",
       "2nd reason for contact                            239\n",
       "2nd Subreason 1                                   196\n",
       "3rd reason for contact                             38\n",
       "3rd Subreason 1                                    29\n",
       "In possession of pills                            367\n",
       "Kind of pills                                      90\n",
       "Amount of pills                                    63\n",
       "Abortion method counselled on                     412\n",
       "MA                                               2336\n",
       "MVA/EVA                                          2336\n",
       "D&E                                              2336\n",
       "Induction                                        2336\n",
       "PAC                                              2336\n",
       "Referral                                          688\n",
       "Ability to pay for referral services/products       3\n",
       "Reason for not referring                          320\n",
       "Reason for referral                               397\n",
       "ref-Subreason 1                                     2\n",
       "Referred to on-the-ground org                    2336\n",
       "Referred to direct provider                      2336\n",
       "dtype: int64"
      ]
     },
     "execution_count": 7,
     "metadata": {},
     "output_type": "execute_result"
    }
   ],
   "source": [
    "wfd.notnull().sum()"
   ]
  },
  {
   "attachments": {},
   "cell_type": "markdown",
   "metadata": {},
   "source": [
    "**List of columns to be deleted due large amount of missing information**\n",
    "\n",
    "Region, Agent 2, Agent 3, Age,Subreason 1 ,Subreason 2, 2nd reason for contact, 2nd Subreason 1, 3rd reason for contact, 3rd Subreason 1, Kind of Pill, Amount of pill, Ability to pay for referral services/products , ref-Subreason 1, "
   ]
  },
  {
   "cell_type": "code",
   "execution_count": 8,
   "metadata": {},
   "outputs": [],
   "source": [
    "# Remove the following columns above\n",
    "\n",
    "wfd = wfd.drop(\n",
    "    columns=[\n",
    "        'Region', \n",
    "        \"Agent 2\", \n",
    "        \"Age\", \n",
    "        \"Subreason 1\", \n",
    "        \"Subreason 2\", \n",
    "        \"2nd reason for contact\", \n",
    "        \"2nd Subreason 1\", \n",
    "        \"3rd reason for contact\", \n",
    "        \"3rd Subreason 1\",\n",
    "        \"Kind of pills\",\n",
    "        \"Amount of pills\",\n",
    "        \"Ability to pay for referral services/products\",\n",
    "        \"ref-Subreason 1\" \n",
    "    ], axis= 1\n",
    ")\n"
   ]
  },
  {
   "cell_type": "code",
   "execution_count": 9,
   "metadata": {},
   "outputs": [],
   "source": [
    "wfd=wfd.drop([\"Agent 3\"],axis =1) "
   ]
  },
  {
   "cell_type": "code",
   "execution_count": 10,
   "metadata": {},
   "outputs": [],
   "source": [
    "wfd = wfd.drop([\"+ days\"], axis = 1)"
   ]
  },
  {
   "cell_type": "code",
   "execution_count": 11,
   "metadata": {},
   "outputs": [
    {
     "data": {
      "text/plain": [
       "(2336, 30)"
      ]
     },
     "execution_count": 11,
     "metadata": {},
     "output_type": "execute_result"
    }
   ],
   "source": [
    "#Verify that the columns have been removed\n",
    "#They have been reduced from from 46 to 31\n",
    "wfd.shape"
   ]
  },
  {
   "cell_type": "code",
   "execution_count": 12,
   "metadata": {},
   "outputs": [
    {
     "data": {
      "text/plain": [
       "Ticket ID                             2336\n",
       "Status                                2336\n",
       "Source                                2336\n",
       "Agent                                 2336\n",
       "Group                                 2336\n",
       "Created time                          2336\n",
       "Month                                 2336\n",
       "Last update time                      2336\n",
       "Resolution time (in hrs)              2336\n",
       "Agent interactions                    2336\n",
       "Customer interactions                 2336\n",
       "First response status                  587\n",
       "Tags                                  1291\n",
       "Countries (NEW)                        573\n",
       "Language                              1758\n",
       "City                                   364\n",
       "Gestational weeks at first contact     384\n",
       "Main reason for contact                693\n",
       "In possession of pills                 367\n",
       "Abortion method counselled on          412\n",
       "MA                                    2336\n",
       "MVA/EVA                               2336\n",
       "D&E                                   2336\n",
       "Induction                             2336\n",
       "PAC                                   2336\n",
       "Referral                               688\n",
       "Reason for not referring               320\n",
       "Reason for referral                    397\n",
       "Referred to on-the-ground org         2336\n",
       "Referred to direct provider           2336\n",
       "dtype: int64"
      ]
     },
     "execution_count": 12,
     "metadata": {},
     "output_type": "execute_result"
    }
   ],
   "source": [
    "#Verify that the columns have been removed\n",
    "wfd.notna().sum()"
   ]
  },
  {
   "attachments": {},
   "cell_type": "markdown",
   "metadata": {},
   "source": [
    "#### Step 2: Replace object data types with \"Not Provided\" and numerical data type with the mean value or use the interpolation method to remove null vaues"
   ]
  },
  {
   "cell_type": "code",
   "execution_count": 13,
   "metadata": {},
   "outputs": [
    {
     "name": "stdout",
     "output_type": "stream",
     "text": [
      "Index(['Ticket ID', 'Status', 'Source', 'Agent', 'Group', 'Created time',\n",
      "       'Month', 'Last update time', 'Resolution time (in hrs)',\n",
      "       'Agent interactions', 'Customer interactions', 'First response status',\n",
      "       'Tags', 'Countries (NEW)', 'Language', 'City',\n",
      "       'Gestational weeks at first contact', 'Main reason for contact',\n",
      "       'In possession of pills', 'Abortion method counselled on', 'MA',\n",
      "       'MVA/EVA', 'D&E', 'Induction', 'PAC', 'Referral ',\n",
      "       'Reason for not referring', 'Reason for referral',\n",
      "       'Referred to on-the-ground org', 'Referred to direct provider'],\n",
      "      dtype='object')\n"
     ]
    }
   ],
   "source": [
    "#Get a list of all the columns in the dataset\n",
    "columns = wfd.columns\n",
    "print(columns)"
   ]
  },
  {
   "cell_type": "code",
   "execution_count": 14,
   "metadata": {},
   "outputs": [
    {
     "data": {
      "text/plain": [
       "First response status                 object\n",
       "Tags                                  object\n",
       "Countries (NEW)                       object\n",
       "Language                              object\n",
       "City                                  object\n",
       "Gestational weeks at first contact    object\n",
       "Main reason for contact               object\n",
       "In possession of pills                object\n",
       "Abortion method counselled on         object\n",
       "Referral                              object\n",
       "Reason for not referring              object\n",
       "Reason for referral                   object\n",
       "dtype: object"
      ]
     },
     "execution_count": 14,
     "metadata": {},
     "output_type": "execute_result"
    }
   ],
   "source": [
    "# Check each column to know the data type of each column\n",
    "\n",
    "wfd[\n",
    "    [\n",
    "        'First response status', \n",
    "        'Tags', \n",
    "        'Countries (NEW)', \n",
    "        'Language', \n",
    "        'City', \n",
    "        'Gestational weeks at first contact', \n",
    "        'Main reason for contact',\n",
    "        'In possession of pills',\n",
    "        'Abortion method counselled on',\n",
    "        'Referral ',\n",
    "        'Reason for not referring',\n",
    "        'Reason for referral',\n",
    "    ]\n",
    "].dtypes"
   ]
  },
  {
   "cell_type": "code",
   "execution_count": 15,
   "metadata": {},
   "outputs": [],
   "source": [
    "#Created a temp_wfd to test that the syntax won't affect the actual table\n",
    "temp_wfd = wfd"
   ]
  },
  {
   "cell_type": "code",
   "execution_count": 16,
   "metadata": {},
   "outputs": [
    {
     "data": {
      "text/plain": [
       "(2336, 30)"
      ]
     },
     "execution_count": 16,
     "metadata": {},
     "output_type": "execute_result"
    }
   ],
   "source": [
    "temp_wfd.shape"
   ]
  },
  {
   "cell_type": "code",
   "execution_count": 17,
   "metadata": {},
   "outputs": [],
   "source": [
    "#For the columns with object data type, replace with \"Not Provided\"\n",
    "\n",
    "wfd = wfd.fillna(\n",
    "    {\n",
    "        'First response status': 'Not Provided',\n",
    "        'Tags': 'Not Provided',\n",
    "        'Countries (NEW)': 'Not Provided',\n",
    "        'Language': 'Not Provided',\n",
    "        'City': 'Not Provided',\n",
    "        'Gestational weeks at first contact': 'Not Provided',\n",
    "        'Main reason for contact': 'Not Provided',\n",
    "        'In possession of pills': 'Not Provided',\n",
    "        'Abortion method counselled on': 'Not Provided',\n",
    "        'Referral ': 'Not Provided',\n",
    "        'Reason for not referring': 'Not Provided',\n",
    "        'Reason for referral': 'Not Provided',\n",
    "        }\n",
    ")\n",
    "\n"
   ]
  },
  {
   "cell_type": "code",
   "execution_count": 18,
   "metadata": {},
   "outputs": [],
   "source": [
    "wfd['Referral '].fillna('Not Provided', inplace=True)"
   ]
  },
  {
   "cell_type": "code",
   "execution_count": 19,
   "metadata": {},
   "outputs": [
    {
     "data": {
      "text/html": [
       "<div>\n",
       "<style scoped>\n",
       "    .dataframe tbody tr th:only-of-type {\n",
       "        vertical-align: middle;\n",
       "    }\n",
       "\n",
       "    .dataframe tbody tr th {\n",
       "        vertical-align: top;\n",
       "    }\n",
       "\n",
       "    .dataframe thead th {\n",
       "        text-align: right;\n",
       "    }\n",
       "</style>\n",
       "<table border=\"1\" class=\"dataframe\">\n",
       "  <thead>\n",
       "    <tr style=\"text-align: right;\">\n",
       "      <th></th>\n",
       "      <th>Ticket ID</th>\n",
       "      <th>Status</th>\n",
       "      <th>Source</th>\n",
       "      <th>Agent</th>\n",
       "      <th>Group</th>\n",
       "      <th>Created time</th>\n",
       "      <th>Month</th>\n",
       "      <th>Last update time</th>\n",
       "      <th>Resolution time (in hrs)</th>\n",
       "      <th>Agent interactions</th>\n",
       "      <th>...</th>\n",
       "      <th>MA</th>\n",
       "      <th>MVA/EVA</th>\n",
       "      <th>D&amp;E</th>\n",
       "      <th>Induction</th>\n",
       "      <th>PAC</th>\n",
       "      <th>Referral</th>\n",
       "      <th>Reason for not referring</th>\n",
       "      <th>Reason for referral</th>\n",
       "      <th>Referred to on-the-ground org</th>\n",
       "      <th>Referred to direct provider</th>\n",
       "    </tr>\n",
       "  </thead>\n",
       "  <tbody>\n",
       "    <tr>\n",
       "      <th>0</th>\n",
       "      <td>92854</td>\n",
       "      <td>Waiting on User</td>\n",
       "      <td>Email</td>\n",
       "      <td>Julia L</td>\n",
       "      <td>Spanish</td>\n",
       "      <td>2022-09-01 00:01:23</td>\n",
       "      <td>September</td>\n",
       "      <td>2022-09-01 16:32:04</td>\n",
       "      <td>00:00:00</td>\n",
       "      <td>1</td>\n",
       "      <td>...</td>\n",
       "      <td>False</td>\n",
       "      <td>False</td>\n",
       "      <td>False</td>\n",
       "      <td>False</td>\n",
       "      <td>False</td>\n",
       "      <td>No</td>\n",
       "      <td>Suspected Pregnancy</td>\n",
       "      <td>Not Provided</td>\n",
       "      <td>False</td>\n",
       "      <td>False</td>\n",
       "    </tr>\n",
       "    <tr>\n",
       "      <th>1</th>\n",
       "      <td>92855</td>\n",
       "      <td>Evaluation sent</td>\n",
       "      <td>Chat</td>\n",
       "      <td>No Agent</td>\n",
       "      <td>Spanish</td>\n",
       "      <td>2022-09-01 00:05:46</td>\n",
       "      <td>September</td>\n",
       "      <td>2022-09-27 18:12:41</td>\n",
       "      <td>00:00:00</td>\n",
       "      <td>0</td>\n",
       "      <td>...</td>\n",
       "      <td>False</td>\n",
       "      <td>False</td>\n",
       "      <td>False</td>\n",
       "      <td>False</td>\n",
       "      <td>False</td>\n",
       "      <td>Not Provided</td>\n",
       "      <td>Not Provided</td>\n",
       "      <td>Not Provided</td>\n",
       "      <td>False</td>\n",
       "      <td>False</td>\n",
       "    </tr>\n",
       "  </tbody>\n",
       "</table>\n",
       "<p>2 rows × 30 columns</p>\n",
       "</div>"
      ],
      "text/plain": [
       "   Ticket ID           Status Source     Agent    Group         Created time  \\\n",
       "0      92854  Waiting on User  Email   Julia L  Spanish  2022-09-01 00:01:23   \n",
       "1      92855  Evaluation sent   Chat  No Agent  Spanish  2022-09-01 00:05:46   \n",
       "\n",
       "       Month     Last update time Resolution time (in hrs)  \\\n",
       "0  September  2022-09-01 16:32:04                 00:00:00   \n",
       "1  September  2022-09-27 18:12:41                 00:00:00   \n",
       "\n",
       "   Agent interactions  ...     MA MVA/EVA    D&E Induction    PAC  \\\n",
       "0                   1  ...  False   False  False     False  False   \n",
       "1                   0  ...  False   False  False     False  False   \n",
       "\n",
       "      Referral  Reason for not referring Reason for referral  \\\n",
       "0            No      Suspected Pregnancy        Not Provided   \n",
       "1  Not Provided             Not Provided        Not Provided   \n",
       "\n",
       "  Referred to on-the-ground org Referred to direct provider  \n",
       "0                         False                       False  \n",
       "1                         False                       False  \n",
       "\n",
       "[2 rows x 30 columns]"
      ]
     },
     "execution_count": 19,
     "metadata": {},
     "output_type": "execute_result"
    }
   ],
   "source": [
    "#Verify that the values in the columns have been changed\n",
    "wfd.head(2)"
   ]
  },
  {
   "cell_type": "code",
   "execution_count": 20,
   "metadata": {},
   "outputs": [
    {
     "data": {
      "text/plain": [
       "Ticket ID                             0\n",
       "Status                                0\n",
       "Source                                0\n",
       "Agent                                 0\n",
       "Group                                 0\n",
       "Created time                          0\n",
       "Month                                 0\n",
       "Last update time                      0\n",
       "Resolution time (in hrs)              0\n",
       "Agent interactions                    0\n",
       "Customer interactions                 0\n",
       "First response status                 0\n",
       "Tags                                  0\n",
       "Countries (NEW)                       0\n",
       "Language                              0\n",
       "City                                  0\n",
       "Gestational weeks at first contact    0\n",
       "Main reason for contact               0\n",
       "In possession of pills                0\n",
       "Abortion method counselled on         0\n",
       "MA                                    0\n",
       "MVA/EVA                               0\n",
       "D&E                                   0\n",
       "Induction                             0\n",
       "PAC                                   0\n",
       "Referral                              0\n",
       "Reason for not referring              0\n",
       "Reason for referral                   0\n",
       "Referred to on-the-ground org         0\n",
       "Referred to direct provider           0\n",
       "dtype: int64"
      ]
     },
     "execution_count": 20,
     "metadata": {},
     "output_type": "execute_result"
    }
   ],
   "source": [
    "#Verify that all the null values have been removed\n",
    "\n",
    "wfd.isna().sum()"
   ]
  },
  {
   "attachments": {},
   "cell_type": "markdown",
   "metadata": {},
   "source": [
    "### Clean The Dataset"
   ]
  },
  {
   "cell_type": "code",
   "execution_count": 21,
   "metadata": {},
   "outputs": [
    {
     "name": "stdout",
     "output_type": "stream",
     "text": [
      "Index(['Ticket ID', 'Status', 'Source', 'Agent', 'Group', 'Created time',\n",
      "       'Month', 'Last update time', 'Resolution time (in hrs)',\n",
      "       'Agent interactions', 'Customer interactions', 'First response status',\n",
      "       'Tags', 'Countries (NEW)', 'Language', 'City',\n",
      "       'Gestational weeks at first contact', 'Main reason for contact',\n",
      "       'In possession of pills', 'Abortion method counselled on', 'MA',\n",
      "       'MVA/EVA', 'D&E', 'Induction', 'PAC', 'Referral ',\n",
      "       'Reason for not referring', 'Reason for referral',\n",
      "       'Referred to on-the-ground org', 'Referred to direct provider'],\n",
      "      dtype='object')\n"
     ]
    }
   ],
   "source": [
    "#Get a list of all the columns in the dataset\n",
    "columns = wfd.columns\n",
    "print(columns)"
   ]
  },
  {
   "cell_type": "code",
   "execution_count": 1,
   "metadata": {},
   "outputs": [
    {
     "ename": "NameError",
     "evalue": "name 'wfd' is not defined",
     "output_type": "error",
     "traceback": [
      "\u001b[1;31m---------------------------------------------------------------------------\u001b[0m",
      "\u001b[1;31mNameError\u001b[0m                                 Traceback (most recent call last)",
      "\u001b[1;32m~\\AppData\\Local\\Temp\\ipykernel_4572\\1154078707.py\u001b[0m in \u001b[0;36m<module>\u001b[1;34m\u001b[0m\n\u001b[1;32m----> 1\u001b[1;33m \u001b[0munique_city\u001b[0m \u001b[1;33m=\u001b[0m \u001b[0mwfd\u001b[0m\u001b[1;33m[\u001b[0m\u001b[1;34m'City'\u001b[0m\u001b[1;33m]\u001b[0m\u001b[1;33m.\u001b[0m\u001b[0munique\u001b[0m\u001b[1;33m(\u001b[0m\u001b[1;33m)\u001b[0m\u001b[1;33m\u001b[0m\u001b[1;33m\u001b[0m\u001b[0m\n\u001b[0m",
      "\u001b[1;31mNameError\u001b[0m: name 'wfd' is not defined"
     ]
    }
   ],
   "source": [
    "unique_city = wfd['City'].unique()"
   ]
  },
  {
   "cell_type": "code",
   "execution_count": 22,
   "metadata": {},
   "outputs": [
    {
     "name": "stdout",
     "output_type": "stream",
     "text": [
      "['Not Provided' 'Argentina' 'Mexico' 'Senegal' 'Bolivia' 'India'\n",
      " 'Colombia' 'Peru' 'United States of America, The' 'Philippines' 'Guinea'\n",
      " 'Kenya' 'Democratic Republic of the Congo (DRC)' 'Cameroon' 'Chile'\n",
      " 'Brazil' 'Guatemala' 'El Salvador' 'Ecuador' 'Tanzania' 'Spain' 'Ghana'\n",
      " 'Angola' 'Togo' 'Paraguay' 'Uganda' 'Ethiopia'\n",
      " 'Côte d’Ivoire (Ivory Coast)' 'Sierra Leone' 'Venezuela'\n",
      " 'United Arab Emirates, The' 'Costa Rica' 'Mozambique' 'Burundi'\n",
      " 'Nicaragua' 'Hong Kong' 'Belgium' 'Zimbabwe' 'South Africa' 'Nigeria'\n",
      " 'Liberia' 'United Kingdom, The' 'Italy' 'Dominican Republic' 'Indonesia'\n",
      " 'Gabon' 'Panama' 'Benin' 'Portugal' 'Egypt' 'Botswana' 'Burkina Faso'\n",
      " 'Saudi Arabia']\n"
     ]
    }
   ],
   "source": [
    "unique_countries = wfd['Countries (NEW)'].unique()\n",
    "\n",
    "print(unique_countries)"
   ]
  },
  {
   "cell_type": "code",
   "execution_count": 23,
   "metadata": {},
   "outputs": [],
   "source": [
    "# Creating a Prediction Model with Decision Trees Algorithm\n",
    "\n",
    "from sklearn import tree\n",
    "from sklearn import preprocessing"
   ]
  },
  {
   "cell_type": "code",
   "execution_count": 24,
   "metadata": {},
   "outputs": [
    {
     "data": {
      "text/plain": [
       "DecisionTreeClassifier()"
      ]
     },
     "execution_count": 24,
     "metadata": {},
     "output_type": "execute_result"
    }
   ],
   "source": [
    "# Initialize Label Encoder\n",
    "label_encoder = preprocessing.LabelEncoder()\n",
    "\n",
    "#Convert  Country variable to numeric\n",
    "encoded_country = label_encoder.fit_transform(wfd[\"Countries (NEW)\"])\n",
    "\n",
    "# Initialize  model\n",
    "tree_model = tree.DecisionTreeClassifier()\n",
    "\n",
    "#Train the model\n",
    "tree_model.fit(X = pd.DataFrame(encoded_country),y = wfd[\"In possession of pills\"])"
   ]
  },
  {
   "cell_type": "code",
   "execution_count": 27,
   "metadata": {},
   "outputs": [
    {
     "data": {
      "image/svg+xml": "<?xml version=\"1.0\" encoding=\"UTF-8\" standalone=\"no\"?>\n<!DOCTYPE svg PUBLIC \"-//W3C//DTD SVG 1.1//EN\"\n \"http://www.w3.org/Graphics/SVG/1.1/DTD/svg11.dtd\">\n<!-- Generated by graphviz version 2.50.0 (0)\n -->\n<!-- Title: Tree Pages: 1 -->\n<svg width=\"2585pt\" height=\"1413pt\"\n viewBox=\"0.00 0.00 2585.00 1413.00\" xmlns=\"http://www.w3.org/2000/svg\" xmlns:xlink=\"http://www.w3.org/1999/xlink\">\n<g id=\"graph0\" class=\"graph\" transform=\"scale(1 1) rotate(0) translate(4 1409)\">\n<title>Tree</title>\n<polygon fill=\"white\" stroke=\"transparent\" points=\"-4,4 -4,-1409 2581,-1409 2581,4 -4,4\"/>\n<!-- 0 -->\n<g id=\"node1\" class=\"node\">\n<title>0</title>\n<polygon fill=\"none\" stroke=\"black\" points=\"1516,-1405 1354,-1405 1354,-1337 1516,-1337 1516,-1405\"/>\n<text text-anchor=\"middle\" x=\"1435\" y=\"-1389.8\" font-family=\"Helvetica,sans-Serif\" font-size=\"14.00\">X[0] &lt;= 33.5</text>\n<text text-anchor=\"middle\" x=\"1435\" y=\"-1374.8\" font-family=\"Helvetica,sans-Serif\" font-size=\"14.00\">gini = 0.275</text>\n<text text-anchor=\"middle\" x=\"1435\" y=\"-1359.8\" font-family=\"Helvetica,sans-Serif\" font-size=\"14.00\">samples = 2336</text>\n<text text-anchor=\"middle\" x=\"1435\" y=\"-1344.8\" font-family=\"Helvetica,sans-Serif\" font-size=\"14.00\">value = [266, 1969, 101]</text>\n</g>\n<!-- 1 -->\n<g id=\"node2\" class=\"node\">\n<title>1</title>\n<polygon fill=\"none\" stroke=\"black\" points=\"1153.5,-1301 1006.5,-1301 1006.5,-1233 1153.5,-1233 1153.5,-1301\"/>\n<text text-anchor=\"middle\" x=\"1080\" y=\"-1285.8\" font-family=\"Helvetica,sans-Serif\" font-size=\"14.00\">X[0] &lt;= 8.5</text>\n<text text-anchor=\"middle\" x=\"1080\" y=\"-1270.8\" font-family=\"Helvetica,sans-Serif\" font-size=\"14.00\">gini = 0.623</text>\n<text text-anchor=\"middle\" x=\"1080\" y=\"-1255.8\" font-family=\"Helvetica,sans-Serif\" font-size=\"14.00\">samples = 407</text>\n<text text-anchor=\"middle\" x=\"1080\" y=\"-1240.8\" font-family=\"Helvetica,sans-Serif\" font-size=\"14.00\">value = [168, 173, 66]</text>\n</g>\n<!-- 0&#45;&gt;1 -->\n<g id=\"edge1\" class=\"edge\">\n<title>0&#45;&gt;1</title>\n<path fill=\"none\" stroke=\"black\" d=\"M1353.56,-1346.6C1296.57,-1330.23 1220.68,-1308.42 1163.29,-1291.93\"/>\n<polygon fill=\"black\" stroke=\"black\" points=\"1164.1,-1288.52 1153.52,-1289.12 1162.16,-1295.25 1164.1,-1288.52\"/>\n<text text-anchor=\"middle\" x=\"1165.63\" y=\"-1307.3\" font-family=\"Helvetica,sans-Serif\" font-size=\"14.00\">True</text>\n</g>\n<!-- 66 -->\n<g id=\"node67\" class=\"node\">\n<title>66</title>\n<polygon fill=\"none\" stroke=\"black\" points=\"1550.5,-1301 1403.5,-1301 1403.5,-1233 1550.5,-1233 1550.5,-1301\"/>\n<text text-anchor=\"middle\" x=\"1477\" y=\"-1285.8\" font-family=\"Helvetica,sans-Serif\" font-size=\"14.00\">X[0] &lt;= 36.5</text>\n<text text-anchor=\"middle\" x=\"1477\" y=\"-1270.8\" font-family=\"Helvetica,sans-Serif\" font-size=\"14.00\">gini = 0.13</text>\n<text text-anchor=\"middle\" x=\"1477\" y=\"-1255.8\" font-family=\"Helvetica,sans-Serif\" font-size=\"14.00\">samples = 1929</text>\n<text text-anchor=\"middle\" x=\"1477\" y=\"-1240.8\" font-family=\"Helvetica,sans-Serif\" font-size=\"14.00\">value = [98, 1796, 35]</text>\n</g>\n<!-- 0&#45;&gt;66 -->\n<g id=\"edge66\" class=\"edge\">\n<title>0&#45;&gt;66</title>\n<path fill=\"none\" stroke=\"black\" d=\"M1448.64,-1336.88C1452.08,-1328.51 1455.83,-1319.4 1459.45,-1310.63\"/>\n<polygon fill=\"black\" stroke=\"black\" points=\"1462.72,-1311.88 1463.29,-1301.3 1456.24,-1309.21 1462.72,-1311.88\"/>\n<text text-anchor=\"middle\" x=\"1472.9\" y=\"-1320.68\" font-family=\"Helvetica,sans-Serif\" font-size=\"14.00\">False</text>\n</g>\n<!-- 2 -->\n<g id=\"node3\" class=\"node\">\n<title>2</title>\n<polygon fill=\"none\" stroke=\"black\" points=\"697,-1197 565,-1197 565,-1129 697,-1129 697,-1197\"/>\n<text text-anchor=\"middle\" x=\"631\" y=\"-1181.8\" font-family=\"Helvetica,sans-Serif\" font-size=\"14.00\">X[0] &lt;= 5.5</text>\n<text text-anchor=\"middle\" x=\"631\" y=\"-1166.8\" font-family=\"Helvetica,sans-Serif\" font-size=\"14.00\">gini = 0.584</text>\n<text text-anchor=\"middle\" x=\"631\" y=\"-1151.8\" font-family=\"Helvetica,sans-Serif\" font-size=\"14.00\">samples = 99</text>\n<text text-anchor=\"middle\" x=\"631\" y=\"-1136.8\" font-family=\"Helvetica,sans-Serif\" font-size=\"14.00\">value = [54, 31, 14]</text>\n</g>\n<!-- 1&#45;&gt;2 -->\n<g id=\"edge2\" class=\"edge\">\n<title>1&#45;&gt;2</title>\n<path fill=\"none\" stroke=\"black\" d=\"M1006.36,-1249.27C923.88,-1230.53 790.84,-1200.31 707.29,-1181.33\"/>\n<polygon fill=\"black\" stroke=\"black\" points=\"707.88,-1177.88 697.36,-1179.07 706.33,-1184.7 707.88,-1177.88\"/>\n</g>\n<!-- 17 -->\n<g id=\"node18\" class=\"node\">\n<title>17</title>\n<polygon fill=\"none\" stroke=\"black\" points=\"1153,-1197 1007,-1197 1007,-1129 1153,-1129 1153,-1197\"/>\n<text text-anchor=\"middle\" x=\"1080\" y=\"-1181.8\" font-family=\"Helvetica,sans-Serif\" font-size=\"14.00\">X[0] &lt;= 30.5</text>\n<text text-anchor=\"middle\" x=\"1080\" y=\"-1166.8\" font-family=\"Helvetica,sans-Serif\" font-size=\"14.00\">gini = 0.622</text>\n<text text-anchor=\"middle\" x=\"1080\" y=\"-1151.8\" font-family=\"Helvetica,sans-Serif\" font-size=\"14.00\">samples = 308</text>\n<text text-anchor=\"middle\" x=\"1080\" y=\"-1136.8\" font-family=\"Helvetica,sans-Serif\" font-size=\"14.00\">value = [114, 142, 52]</text>\n</g>\n<!-- 1&#45;&gt;17 -->\n<g id=\"edge17\" class=\"edge\">\n<title>1&#45;&gt;17</title>\n<path fill=\"none\" stroke=\"black\" d=\"M1080,-1232.88C1080,-1224.78 1080,-1215.98 1080,-1207.47\"/>\n<polygon fill=\"black\" stroke=\"black\" points=\"1083.5,-1207.3 1080,-1197.3 1076.5,-1207.3 1083.5,-1207.3\"/>\n</g>\n<!-- 3 -->\n<g id=\"node4\" class=\"node\">\n<title>3</title>\n<polygon fill=\"none\" stroke=\"black\" points=\"443.5,-1093 318.5,-1093 318.5,-1025 443.5,-1025 443.5,-1093\"/>\n<text text-anchor=\"middle\" x=\"381\" y=\"-1077.8\" font-family=\"Helvetica,sans-Serif\" font-size=\"14.00\">X[0] &lt;= 2.5</text>\n<text text-anchor=\"middle\" x=\"381\" y=\"-1062.8\" font-family=\"Helvetica,sans-Serif\" font-size=\"14.00\">gini = 0.617</text>\n<text text-anchor=\"middle\" x=\"381\" y=\"-1047.8\" font-family=\"Helvetica,sans-Serif\" font-size=\"14.00\">samples = 46</text>\n<text text-anchor=\"middle\" x=\"381\" y=\"-1032.8\" font-family=\"Helvetica,sans-Serif\" font-size=\"14.00\">value = [19, 20, 7]</text>\n</g>\n<!-- 2&#45;&gt;3 -->\n<g id=\"edge3\" class=\"edge\">\n<title>2&#45;&gt;3</title>\n<path fill=\"none\" stroke=\"black\" d=\"M564.99,-1135.07C530.46,-1120.98 488.14,-1103.71 452.8,-1089.29\"/>\n<polygon fill=\"black\" stroke=\"black\" points=\"454.08,-1086.04 443.5,-1085.5 451.44,-1092.52 454.08,-1086.04\"/>\n</g>\n<!-- 14 -->\n<g id=\"node15\" class=\"node\">\n<title>14</title>\n<polygon fill=\"none\" stroke=\"black\" points=\"693,-1093 569,-1093 569,-1025 693,-1025 693,-1093\"/>\n<text text-anchor=\"middle\" x=\"631\" y=\"-1077.8\" font-family=\"Helvetica,sans-Serif\" font-size=\"14.00\">X[0] &lt;= 6.5</text>\n<text text-anchor=\"middle\" x=\"631\" y=\"-1062.8\" font-family=\"Helvetica,sans-Serif\" font-size=\"14.00\">gini = 0.503</text>\n<text text-anchor=\"middle\" x=\"631\" y=\"-1047.8\" font-family=\"Helvetica,sans-Serif\" font-size=\"14.00\">samples = 53</text>\n<text text-anchor=\"middle\" x=\"631\" y=\"-1032.8\" font-family=\"Helvetica,sans-Serif\" font-size=\"14.00\">value = [35, 11, 7]</text>\n</g>\n<!-- 2&#45;&gt;14 -->\n<g id=\"edge14\" class=\"edge\">\n<title>2&#45;&gt;14</title>\n<path fill=\"none\" stroke=\"black\" d=\"M631,-1128.88C631,-1120.78 631,-1111.98 631,-1103.47\"/>\n<polygon fill=\"black\" stroke=\"black\" points=\"634.5,-1103.3 631,-1093.3 627.5,-1103.3 634.5,-1103.3\"/>\n</g>\n<!-- 4 -->\n<g id=\"node5\" class=\"node\">\n<title>4</title>\n<polygon fill=\"none\" stroke=\"black\" points=\"241,-989 125,-989 125,-921 241,-921 241,-989\"/>\n<text text-anchor=\"middle\" x=\"183\" y=\"-973.8\" font-family=\"Helvetica,sans-Serif\" font-size=\"14.00\">X[0] &lt;= 0.5</text>\n<text text-anchor=\"middle\" x=\"183\" y=\"-958.8\" font-family=\"Helvetica,sans-Serif\" font-size=\"14.00\">gini = 0.571</text>\n<text text-anchor=\"middle\" x=\"183\" y=\"-943.8\" font-family=\"Helvetica,sans-Serif\" font-size=\"14.00\">samples = 19</text>\n<text text-anchor=\"middle\" x=\"183\" y=\"-928.8\" font-family=\"Helvetica,sans-Serif\" font-size=\"14.00\">value = [11, 5, 3]</text>\n</g>\n<!-- 3&#45;&gt;4 -->\n<g id=\"edge4\" class=\"edge\">\n<title>3&#45;&gt;4</title>\n<path fill=\"none\" stroke=\"black\" d=\"M318.35,-1025.73C296.64,-1014.54 272.23,-1001.97 250.17,-990.6\"/>\n<polygon fill=\"black\" stroke=\"black\" points=\"251.69,-987.45 241.2,-985.98 248.49,-993.67 251.69,-987.45\"/>\n</g>\n<!-- 9 -->\n<g id=\"node10\" class=\"node\">\n<title>9</title>\n<polygon fill=\"none\" stroke=\"black\" points=\"439.5,-989 322.5,-989 322.5,-921 439.5,-921 439.5,-989\"/>\n<text text-anchor=\"middle\" x=\"381\" y=\"-973.8\" font-family=\"Helvetica,sans-Serif\" font-size=\"14.00\">X[0] &lt;= 3.5</text>\n<text text-anchor=\"middle\" x=\"381\" y=\"-958.8\" font-family=\"Helvetica,sans-Serif\" font-size=\"14.00\">gini = 0.582</text>\n<text text-anchor=\"middle\" x=\"381\" y=\"-943.8\" font-family=\"Helvetica,sans-Serif\" font-size=\"14.00\">samples = 27</text>\n<text text-anchor=\"middle\" x=\"381\" y=\"-928.8\" font-family=\"Helvetica,sans-Serif\" font-size=\"14.00\">value = [8, 15, 4]</text>\n</g>\n<!-- 3&#45;&gt;9 -->\n<g id=\"edge9\" class=\"edge\">\n<title>3&#45;&gt;9</title>\n<path fill=\"none\" stroke=\"black\" d=\"M381,-1024.88C381,-1016.78 381,-1007.98 381,-999.47\"/>\n<polygon fill=\"black\" stroke=\"black\" points=\"384.5,-999.3 381,-989.3 377.5,-999.3 384.5,-999.3\"/>\n</g>\n<!-- 5 -->\n<g id=\"node6\" class=\"node\">\n<title>5</title>\n<polygon fill=\"none\" stroke=\"black\" points=\"110,-877.5 0,-877.5 0,-824.5 110,-824.5 110,-877.5\"/>\n<text text-anchor=\"middle\" x=\"55\" y=\"-862.3\" font-family=\"Helvetica,sans-Serif\" font-size=\"14.00\">gini = 0.375</text>\n<text text-anchor=\"middle\" x=\"55\" y=\"-847.3\" font-family=\"Helvetica,sans-Serif\" font-size=\"14.00\">samples = 4</text>\n<text text-anchor=\"middle\" x=\"55\" y=\"-832.3\" font-family=\"Helvetica,sans-Serif\" font-size=\"14.00\">value = [3, 0, 1]</text>\n</g>\n<!-- 4&#45;&gt;5 -->\n<g id=\"edge5\" class=\"edge\">\n<title>4&#45;&gt;5</title>\n<path fill=\"none\" stroke=\"black\" d=\"M141.44,-920.88C126.54,-909.01 109.77,-895.65 95,-883.88\"/>\n<polygon fill=\"black\" stroke=\"black\" points=\"97.03,-881.01 87.03,-877.52 92.66,-886.49 97.03,-881.01\"/>\n</g>\n<!-- 6 -->\n<g id=\"node7\" class=\"node\">\n<title>6</title>\n<polygon fill=\"none\" stroke=\"black\" points=\"238,-885 128,-885 128,-817 238,-817 238,-885\"/>\n<text text-anchor=\"middle\" x=\"183\" y=\"-869.8\" font-family=\"Helvetica,sans-Serif\" font-size=\"14.00\">X[0] &lt;= 1.5</text>\n<text text-anchor=\"middle\" x=\"183\" y=\"-854.8\" font-family=\"Helvetica,sans-Serif\" font-size=\"14.00\">gini = 0.587</text>\n<text text-anchor=\"middle\" x=\"183\" y=\"-839.8\" font-family=\"Helvetica,sans-Serif\" font-size=\"14.00\">samples = 15</text>\n<text text-anchor=\"middle\" x=\"183\" y=\"-824.8\" font-family=\"Helvetica,sans-Serif\" font-size=\"14.00\">value = [8, 5, 2]</text>\n</g>\n<!-- 4&#45;&gt;6 -->\n<g id=\"edge6\" class=\"edge\">\n<title>4&#45;&gt;6</title>\n<path fill=\"none\" stroke=\"black\" d=\"M183,-920.88C183,-912.78 183,-903.98 183,-895.47\"/>\n<polygon fill=\"black\" stroke=\"black\" points=\"186.5,-895.3 183,-885.3 179.5,-895.3 186.5,-895.3\"/>\n</g>\n<!-- 7 -->\n<g id=\"node8\" class=\"node\">\n<title>7</title>\n<polygon fill=\"none\" stroke=\"black\" points=\"110,-773.5 0,-773.5 0,-720.5 110,-720.5 110,-773.5\"/>\n<text text-anchor=\"middle\" x=\"55\" y=\"-758.3\" font-family=\"Helvetica,sans-Serif\" font-size=\"14.00\">gini = 0.602</text>\n<text text-anchor=\"middle\" x=\"55\" y=\"-743.3\" font-family=\"Helvetica,sans-Serif\" font-size=\"14.00\">samples = 14</text>\n<text text-anchor=\"middle\" x=\"55\" y=\"-728.3\" font-family=\"Helvetica,sans-Serif\" font-size=\"14.00\">value = [7, 5, 2]</text>\n</g>\n<!-- 6&#45;&gt;7 -->\n<g id=\"edge7\" class=\"edge\">\n<title>6&#45;&gt;7</title>\n<path fill=\"none\" stroke=\"black\" d=\"M141.44,-816.88C126.54,-805.01 109.77,-791.65 95,-779.88\"/>\n<polygon fill=\"black\" stroke=\"black\" points=\"97.03,-777.01 87.03,-773.52 92.66,-782.49 97.03,-777.01\"/>\n</g>\n<!-- 8 -->\n<g id=\"node9\" class=\"node\">\n<title>8</title>\n<polygon fill=\"none\" stroke=\"black\" points=\"238,-773.5 128,-773.5 128,-720.5 238,-720.5 238,-773.5\"/>\n<text text-anchor=\"middle\" x=\"183\" y=\"-758.3\" font-family=\"Helvetica,sans-Serif\" font-size=\"14.00\">gini = 0.0</text>\n<text text-anchor=\"middle\" x=\"183\" y=\"-743.3\" font-family=\"Helvetica,sans-Serif\" font-size=\"14.00\">samples = 1</text>\n<text text-anchor=\"middle\" x=\"183\" y=\"-728.3\" font-family=\"Helvetica,sans-Serif\" font-size=\"14.00\">value = [1, 0, 0]</text>\n</g>\n<!-- 6&#45;&gt;8 -->\n<g id=\"edge8\" class=\"edge\">\n<title>6&#45;&gt;8</title>\n<path fill=\"none\" stroke=\"black\" d=\"M183,-816.88C183,-806.33 183,-794.6 183,-783.85\"/>\n<polygon fill=\"black\" stroke=\"black\" points=\"186.5,-783.52 183,-773.52 179.5,-783.52 186.5,-783.52\"/>\n</g>\n<!-- 10 -->\n<g id=\"node11\" class=\"node\">\n<title>10</title>\n<polygon fill=\"none\" stroke=\"black\" points=\"368,-877.5 258,-877.5 258,-824.5 368,-824.5 368,-877.5\"/>\n<text text-anchor=\"middle\" x=\"313\" y=\"-862.3\" font-family=\"Helvetica,sans-Serif\" font-size=\"14.00\">gini = 0.5</text>\n<text text-anchor=\"middle\" x=\"313\" y=\"-847.3\" font-family=\"Helvetica,sans-Serif\" font-size=\"14.00\">samples = 2</text>\n<text text-anchor=\"middle\" x=\"313\" y=\"-832.3\" font-family=\"Helvetica,sans-Serif\" font-size=\"14.00\">value = [0, 1, 1]</text>\n</g>\n<!-- 9&#45;&gt;10 -->\n<g id=\"edge10\" class=\"edge\">\n<title>9&#45;&gt;10</title>\n<path fill=\"none\" stroke=\"black\" d=\"M358.92,-920.88C351.44,-909.67 343.08,-897.13 335.57,-885.85\"/>\n<polygon fill=\"black\" stroke=\"black\" points=\"338.47,-883.9 330.01,-877.52 332.65,-887.78 338.47,-883.9\"/>\n</g>\n<!-- 11 -->\n<g id=\"node12\" class=\"node\">\n<title>11</title>\n<polygon fill=\"none\" stroke=\"black\" points=\"503.5,-885 386.5,-885 386.5,-817 503.5,-817 503.5,-885\"/>\n<text text-anchor=\"middle\" x=\"445\" y=\"-869.8\" font-family=\"Helvetica,sans-Serif\" font-size=\"14.00\">X[0] &lt;= 4.5</text>\n<text text-anchor=\"middle\" x=\"445\" y=\"-854.8\" font-family=\"Helvetica,sans-Serif\" font-size=\"14.00\">gini = 0.57</text>\n<text text-anchor=\"middle\" x=\"445\" y=\"-839.8\" font-family=\"Helvetica,sans-Serif\" font-size=\"14.00\">samples = 25</text>\n<text text-anchor=\"middle\" x=\"445\" y=\"-824.8\" font-family=\"Helvetica,sans-Serif\" font-size=\"14.00\">value = [8, 14, 3]</text>\n</g>\n<!-- 9&#45;&gt;11 -->\n<g id=\"edge11\" class=\"edge\">\n<title>9&#45;&gt;11</title>\n<path fill=\"none\" stroke=\"black\" d=\"M401.78,-920.88C407.2,-912.24 413.11,-902.82 418.78,-893.79\"/>\n<polygon fill=\"black\" stroke=\"black\" points=\"421.76,-895.63 424.11,-885.3 415.83,-891.91 421.76,-895.63\"/>\n</g>\n<!-- 12 -->\n<g id=\"node13\" class=\"node\">\n<title>12</title>\n<polygon fill=\"none\" stroke=\"black\" points=\"373.5,-773.5 256.5,-773.5 256.5,-720.5 373.5,-720.5 373.5,-773.5\"/>\n<text text-anchor=\"middle\" x=\"315\" y=\"-758.3\" font-family=\"Helvetica,sans-Serif\" font-size=\"14.00\">gini = 0.58</text>\n<text text-anchor=\"middle\" x=\"315\" y=\"-743.3\" font-family=\"Helvetica,sans-Serif\" font-size=\"14.00\">samples = 24</text>\n<text text-anchor=\"middle\" x=\"315\" y=\"-728.3\" font-family=\"Helvetica,sans-Serif\" font-size=\"14.00\">value = [8, 13, 3]</text>\n</g>\n<!-- 11&#45;&gt;12 -->\n<g id=\"edge12\" class=\"edge\">\n<title>11&#45;&gt;12</title>\n<path fill=\"none\" stroke=\"black\" d=\"M402.79,-816.88C387.65,-805.01 370.63,-791.65 355.63,-779.88\"/>\n<polygon fill=\"black\" stroke=\"black\" points=\"357.55,-776.94 347.53,-773.52 353.23,-782.45 357.55,-776.94\"/>\n</g>\n<!-- 13 -->\n<g id=\"node14\" class=\"node\">\n<title>13</title>\n<polygon fill=\"none\" stroke=\"black\" points=\"502,-773.5 392,-773.5 392,-720.5 502,-720.5 502,-773.5\"/>\n<text text-anchor=\"middle\" x=\"447\" y=\"-758.3\" font-family=\"Helvetica,sans-Serif\" font-size=\"14.00\">gini = 0.0</text>\n<text text-anchor=\"middle\" x=\"447\" y=\"-743.3\" font-family=\"Helvetica,sans-Serif\" font-size=\"14.00\">samples = 1</text>\n<text text-anchor=\"middle\" x=\"447\" y=\"-728.3\" font-family=\"Helvetica,sans-Serif\" font-size=\"14.00\">value = [0, 1, 0]</text>\n</g>\n<!-- 11&#45;&gt;13 -->\n<g id=\"edge13\" class=\"edge\">\n<title>11&#45;&gt;13</title>\n<path fill=\"none\" stroke=\"black\" d=\"M445.65,-816.88C445.86,-806.22 446.09,-794.35 446.3,-783.52\"/>\n<polygon fill=\"black\" stroke=\"black\" points=\"449.8,-783.59 446.5,-773.52 442.8,-783.45 449.8,-783.59\"/>\n</g>\n<!-- 15 -->\n<g id=\"node16\" class=\"node\">\n<title>15</title>\n<polygon fill=\"none\" stroke=\"black\" points=\"625,-981.5 501,-981.5 501,-928.5 625,-928.5 625,-981.5\"/>\n<text text-anchor=\"middle\" x=\"563\" y=\"-966.3\" font-family=\"Helvetica,sans-Serif\" font-size=\"14.00\">gini = 0.516</text>\n<text text-anchor=\"middle\" x=\"563\" y=\"-951.3\" font-family=\"Helvetica,sans-Serif\" font-size=\"14.00\">samples = 51</text>\n<text text-anchor=\"middle\" x=\"563\" y=\"-936.3\" font-family=\"Helvetica,sans-Serif\" font-size=\"14.00\">value = [33, 11, 7]</text>\n</g>\n<!-- 14&#45;&gt;15 -->\n<g id=\"edge15\" class=\"edge\">\n<title>14&#45;&gt;15</title>\n<path fill=\"none\" stroke=\"black\" d=\"M608.92,-1024.88C601.44,-1013.67 593.08,-1001.13 585.57,-989.85\"/>\n<polygon fill=\"black\" stroke=\"black\" points=\"588.47,-987.9 580.01,-981.52 582.65,-991.78 588.47,-987.9\"/>\n</g>\n<!-- 16 -->\n<g id=\"node17\" class=\"node\">\n<title>16</title>\n<polygon fill=\"none\" stroke=\"black\" points=\"753,-981.5 643,-981.5 643,-928.5 753,-928.5 753,-981.5\"/>\n<text text-anchor=\"middle\" x=\"698\" y=\"-966.3\" font-family=\"Helvetica,sans-Serif\" font-size=\"14.00\">gini = 0.0</text>\n<text text-anchor=\"middle\" x=\"698\" y=\"-951.3\" font-family=\"Helvetica,sans-Serif\" font-size=\"14.00\">samples = 2</text>\n<text text-anchor=\"middle\" x=\"698\" y=\"-936.3\" font-family=\"Helvetica,sans-Serif\" font-size=\"14.00\">value = [2, 0, 0]</text>\n</g>\n<!-- 14&#45;&gt;16 -->\n<g id=\"edge16\" class=\"edge\">\n<title>14&#45;&gt;16</title>\n<path fill=\"none\" stroke=\"black\" d=\"M652.75,-1024.88C660.05,-1013.78 668.2,-1001.37 675.55,-990.18\"/>\n<polygon fill=\"black\" stroke=\"black\" points=\"678.67,-991.8 681.24,-981.52 672.82,-987.96 678.67,-991.8\"/>\n</g>\n<!-- 18 -->\n<g id=\"node19\" class=\"node\">\n<title>18</title>\n<polygon fill=\"none\" stroke=\"black\" points=\"1080,-1093 934,-1093 934,-1025 1080,-1025 1080,-1093\"/>\n<text text-anchor=\"middle\" x=\"1007\" y=\"-1077.8\" font-family=\"Helvetica,sans-Serif\" font-size=\"14.00\">X[0] &lt;= 29.5</text>\n<text text-anchor=\"middle\" x=\"1007\" y=\"-1062.8\" font-family=\"Helvetica,sans-Serif\" font-size=\"14.00\">gini = 0.614</text>\n<text text-anchor=\"middle\" x=\"1007\" y=\"-1047.8\" font-family=\"Helvetica,sans-Serif\" font-size=\"14.00\">samples = 292</text>\n<text text-anchor=\"middle\" x=\"1007\" y=\"-1032.8\" font-family=\"Helvetica,sans-Serif\" font-size=\"14.00\">value = [110, 137, 45]</text>\n</g>\n<!-- 17&#45;&gt;18 -->\n<g id=\"edge18\" class=\"edge\">\n<title>17&#45;&gt;18</title>\n<path fill=\"none\" stroke=\"black\" d=\"M1056.3,-1128.88C1050.05,-1120.15 1043.23,-1110.62 1036.71,-1101.51\"/>\n<polygon fill=\"black\" stroke=\"black\" points=\"1039.5,-1099.39 1030.83,-1093.3 1033.81,-1103.47 1039.5,-1099.39\"/>\n</g>\n<!-- 61 -->\n<g id=\"node62\" class=\"node\">\n<title>61</title>\n<polygon fill=\"none\" stroke=\"black\" points=\"1208,-1093 1098,-1093 1098,-1025 1208,-1025 1208,-1093\"/>\n<text text-anchor=\"middle\" x=\"1153\" y=\"-1077.8\" font-family=\"Helvetica,sans-Serif\" font-size=\"14.00\">X[0] &lt;= 31.5</text>\n<text text-anchor=\"middle\" x=\"1153\" y=\"-1062.8\" font-family=\"Helvetica,sans-Serif\" font-size=\"14.00\">gini = 0.648</text>\n<text text-anchor=\"middle\" x=\"1153\" y=\"-1047.8\" font-family=\"Helvetica,sans-Serif\" font-size=\"14.00\">samples = 16</text>\n<text text-anchor=\"middle\" x=\"1153\" y=\"-1032.8\" font-family=\"Helvetica,sans-Serif\" font-size=\"14.00\">value = [4, 5, 7]</text>\n</g>\n<!-- 17&#45;&gt;61 -->\n<g id=\"edge61\" class=\"edge\">\n<title>17&#45;&gt;61</title>\n<path fill=\"none\" stroke=\"black\" d=\"M1103.7,-1128.88C1109.95,-1120.15 1116.77,-1110.62 1123.29,-1101.51\"/>\n<polygon fill=\"black\" stroke=\"black\" points=\"1126.19,-1103.47 1129.17,-1093.3 1120.5,-1099.39 1126.19,-1103.47\"/>\n</g>\n<!-- 19 -->\n<g id=\"node20\" class=\"node\">\n<title>19</title>\n<polygon fill=\"none\" stroke=\"black\" points=\"925,-989 793,-989 793,-921 925,-921 925,-989\"/>\n<text text-anchor=\"middle\" x=\"859\" y=\"-973.8\" font-family=\"Helvetica,sans-Serif\" font-size=\"14.00\">X[0] &lt;= 13.5</text>\n<text text-anchor=\"middle\" x=\"859\" y=\"-958.8\" font-family=\"Helvetica,sans-Serif\" font-size=\"14.00\">gini = 0.618</text>\n<text text-anchor=\"middle\" x=\"859\" y=\"-943.8\" font-family=\"Helvetica,sans-Serif\" font-size=\"14.00\">samples = 143</text>\n<text text-anchor=\"middle\" x=\"859\" y=\"-928.8\" font-family=\"Helvetica,sans-Serif\" font-size=\"14.00\">value = [61, 60, 22]</text>\n</g>\n<!-- 18&#45;&gt;19 -->\n<g id=\"edge19\" class=\"edge\">\n<title>18&#45;&gt;19</title>\n<path fill=\"none\" stroke=\"black\" d=\"M958.95,-1024.88C945.05,-1015.3 929.75,-1004.76 915.39,-994.86\"/>\n<polygon fill=\"black\" stroke=\"black\" points=\"917.28,-991.92 907.06,-989.12 913.31,-997.68 917.28,-991.92\"/>\n</g>\n<!-- 60 -->\n<g id=\"node61\" class=\"node\">\n<title>60</title>\n<polygon fill=\"none\" stroke=\"black\" points=\"1075,-981.5 943,-981.5 943,-928.5 1075,-928.5 1075,-981.5\"/>\n<text text-anchor=\"middle\" x=\"1009\" y=\"-966.3\" font-family=\"Helvetica,sans-Serif\" font-size=\"14.00\">gini = 0.601</text>\n<text text-anchor=\"middle\" x=\"1009\" y=\"-951.3\" font-family=\"Helvetica,sans-Serif\" font-size=\"14.00\">samples = 149</text>\n<text text-anchor=\"middle\" x=\"1009\" y=\"-936.3\" font-family=\"Helvetica,sans-Serif\" font-size=\"14.00\">value = [49, 77, 23]</text>\n</g>\n<!-- 18&#45;&gt;60 -->\n<g id=\"edge60\" class=\"edge\">\n<title>18&#45;&gt;60</title>\n<path fill=\"none\" stroke=\"black\" d=\"M1007.65,-1024.88C1007.86,-1014.22 1008.09,-1002.35 1008.3,-991.52\"/>\n<polygon fill=\"black\" stroke=\"black\" points=\"1011.8,-991.59 1008.5,-981.52 1004.8,-991.45 1011.8,-991.59\"/>\n</g>\n<!-- 20 -->\n<g id=\"node21\" class=\"node\">\n<title>20</title>\n<polygon fill=\"none\" stroke=\"black\" points=\"791,-885 659,-885 659,-817 791,-817 791,-885\"/>\n<text text-anchor=\"middle\" x=\"725\" y=\"-869.8\" font-family=\"Helvetica,sans-Serif\" font-size=\"14.00\">X[0] &lt;= 12.5</text>\n<text text-anchor=\"middle\" x=\"725\" y=\"-854.8\" font-family=\"Helvetica,sans-Serif\" font-size=\"14.00\">gini = 0.62</text>\n<text text-anchor=\"middle\" x=\"725\" y=\"-839.8\" font-family=\"Helvetica,sans-Serif\" font-size=\"14.00\">samples = 50</text>\n<text text-anchor=\"middle\" x=\"725\" y=\"-824.8\" font-family=\"Helvetica,sans-Serif\" font-size=\"14.00\">value = [15, 25, 10]</text>\n</g>\n<!-- 19&#45;&gt;20 -->\n<g id=\"edge20\" class=\"edge\">\n<title>19&#45;&gt;20</title>\n<path fill=\"none\" stroke=\"black\" d=\"M815.49,-920.88C803.21,-911.53 789.71,-901.26 776.98,-891.57\"/>\n<polygon fill=\"black\" stroke=\"black\" points=\"778.82,-888.57 768.75,-885.3 774.58,-894.14 778.82,-888.57\"/>\n</g>\n<!-- 29 -->\n<g id=\"node30\" class=\"node\">\n<title>29</title>\n<polygon fill=\"none\" stroke=\"black\" points=\"965,-885 833,-885 833,-817 965,-817 965,-885\"/>\n<text text-anchor=\"middle\" x=\"899\" y=\"-869.8\" font-family=\"Helvetica,sans-Serif\" font-size=\"14.00\">X[0] &lt;= 19.5</text>\n<text text-anchor=\"middle\" x=\"899\" y=\"-854.8\" font-family=\"Helvetica,sans-Serif\" font-size=\"14.00\">gini = 0.597</text>\n<text text-anchor=\"middle\" x=\"899\" y=\"-839.8\" font-family=\"Helvetica,sans-Serif\" font-size=\"14.00\">samples = 93</text>\n<text text-anchor=\"middle\" x=\"899\" y=\"-824.8\" font-family=\"Helvetica,sans-Serif\" font-size=\"14.00\">value = [46, 35, 12]</text>\n</g>\n<!-- 19&#45;&gt;29 -->\n<g id=\"edge29\" class=\"edge\">\n<title>19&#45;&gt;29</title>\n<path fill=\"none\" stroke=\"black\" d=\"M871.99,-920.88C875.27,-912.51 878.84,-903.4 882.28,-894.63\"/>\n<polygon fill=\"black\" stroke=\"black\" points=\"885.55,-895.89 885.94,-885.3 879.03,-893.33 885.55,-895.89\"/>\n</g>\n<!-- 21 -->\n<g id=\"node22\" class=\"node\">\n<title>21</title>\n<polygon fill=\"none\" stroke=\"black\" points=\"645.5,-781 520.5,-781 520.5,-713 645.5,-713 645.5,-781\"/>\n<text text-anchor=\"middle\" x=\"583\" y=\"-765.8\" font-family=\"Helvetica,sans-Serif\" font-size=\"14.00\">X[0] &lt;= 9.5</text>\n<text text-anchor=\"middle\" x=\"583\" y=\"-750.8\" font-family=\"Helvetica,sans-Serif\" font-size=\"14.00\">gini = 0.605</text>\n<text text-anchor=\"middle\" x=\"583\" y=\"-735.8\" font-family=\"Helvetica,sans-Serif\" font-size=\"14.00\">samples = 46</text>\n<text text-anchor=\"middle\" x=\"583\" y=\"-720.8\" font-family=\"Helvetica,sans-Serif\" font-size=\"14.00\">value = [14, 24, 8]</text>\n</g>\n<!-- 20&#45;&gt;21 -->\n<g id=\"edge21\" class=\"edge\">\n<title>20&#45;&gt;21</title>\n<path fill=\"none\" stroke=\"black\" d=\"M678.9,-816.88C665.75,-807.44 651.3,-797.06 637.7,-787.29\"/>\n<polygon fill=\"black\" stroke=\"black\" points=\"639.52,-784.29 629.36,-781.3 635.44,-789.98 639.52,-784.29\"/>\n</g>\n<!-- 28 -->\n<g id=\"node29\" class=\"node\">\n<title>28</title>\n<polygon fill=\"none\" stroke=\"black\" points=\"780,-773.5 670,-773.5 670,-720.5 780,-720.5 780,-773.5\"/>\n<text text-anchor=\"middle\" x=\"725\" y=\"-758.3\" font-family=\"Helvetica,sans-Serif\" font-size=\"14.00\">gini = 0.625</text>\n<text text-anchor=\"middle\" x=\"725\" y=\"-743.3\" font-family=\"Helvetica,sans-Serif\" font-size=\"14.00\">samples = 4</text>\n<text text-anchor=\"middle\" x=\"725\" y=\"-728.3\" font-family=\"Helvetica,sans-Serif\" font-size=\"14.00\">value = [1, 1, 2]</text>\n</g>\n<!-- 20&#45;&gt;28 -->\n<g id=\"edge28\" class=\"edge\">\n<title>20&#45;&gt;28</title>\n<path fill=\"none\" stroke=\"black\" d=\"M725,-816.88C725,-806.33 725,-794.6 725,-783.85\"/>\n<polygon fill=\"black\" stroke=\"black\" points=\"728.5,-783.52 725,-773.52 721.5,-783.52 728.5,-783.52\"/>\n</g>\n<!-- 22 -->\n<g id=\"node23\" class=\"node\">\n<title>22</title>\n<polygon fill=\"none\" stroke=\"black\" points=\"490,-669.5 380,-669.5 380,-616.5 490,-616.5 490,-669.5\"/>\n<text text-anchor=\"middle\" x=\"435\" y=\"-654.3\" font-family=\"Helvetica,sans-Serif\" font-size=\"14.00\">gini = 0.656</text>\n<text text-anchor=\"middle\" x=\"435\" y=\"-639.3\" font-family=\"Helvetica,sans-Serif\" font-size=\"14.00\">samples = 8</text>\n<text text-anchor=\"middle\" x=\"435\" y=\"-624.3\" font-family=\"Helvetica,sans-Serif\" font-size=\"14.00\">value = [2, 3, 3]</text>\n</g>\n<!-- 21&#45;&gt;22 -->\n<g id=\"edge22\" class=\"edge\">\n<title>21&#45;&gt;22</title>\n<path fill=\"none\" stroke=\"black\" d=\"M534.95,-712.88C517.4,-700.79 497.61,-687.15 480.31,-675.22\"/>\n<polygon fill=\"black\" stroke=\"black\" points=\"482.25,-672.31 472.03,-669.52 478.28,-678.08 482.25,-672.31\"/>\n</g>\n<!-- 23 -->\n<g id=\"node24\" class=\"node\">\n<title>23</title>\n<polygon fill=\"none\" stroke=\"black\" points=\"633.5,-677 508.5,-677 508.5,-609 633.5,-609 633.5,-677\"/>\n<text text-anchor=\"middle\" x=\"571\" y=\"-661.8\" font-family=\"Helvetica,sans-Serif\" font-size=\"14.00\">X[0] &lt;= 11.5</text>\n<text text-anchor=\"middle\" x=\"571\" y=\"-646.8\" font-family=\"Helvetica,sans-Serif\" font-size=\"14.00\">gini = 0.578</text>\n<text text-anchor=\"middle\" x=\"571\" y=\"-631.8\" font-family=\"Helvetica,sans-Serif\" font-size=\"14.00\">samples = 38</text>\n<text text-anchor=\"middle\" x=\"571\" y=\"-616.8\" font-family=\"Helvetica,sans-Serif\" font-size=\"14.00\">value = [12, 21, 5]</text>\n</g>\n<!-- 21&#45;&gt;23 -->\n<g id=\"edge23\" class=\"edge\">\n<title>21&#45;&gt;23</title>\n<path fill=\"none\" stroke=\"black\" d=\"M579.1,-712.88C578.15,-704.78 577.12,-695.98 576.11,-687.47\"/>\n<polygon fill=\"black\" stroke=\"black\" points=\"579.56,-686.82 574.92,-677.3 572.61,-687.64 579.56,-686.82\"/>\n</g>\n<!-- 24 -->\n<g id=\"node25\" class=\"node\">\n<title>24</title>\n<polygon fill=\"none\" stroke=\"black\" points=\"484,-573 360,-573 360,-505 484,-505 484,-573\"/>\n<text text-anchor=\"middle\" x=\"422\" y=\"-557.8\" font-family=\"Helvetica,sans-Serif\" font-size=\"14.00\">X[0] &lt;= 10.5</text>\n<text text-anchor=\"middle\" x=\"422\" y=\"-542.8\" font-family=\"Helvetica,sans-Serif\" font-size=\"14.00\">gini = 0.569</text>\n<text text-anchor=\"middle\" x=\"422\" y=\"-527.8\" font-family=\"Helvetica,sans-Serif\" font-size=\"14.00\">samples = 34</text>\n<text text-anchor=\"middle\" x=\"422\" y=\"-512.8\" font-family=\"Helvetica,sans-Serif\" font-size=\"14.00\">value = [11, 19, 4]</text>\n</g>\n<!-- 23&#45;&gt;24 -->\n<g id=\"edge24\" class=\"edge\">\n<title>23&#45;&gt;24</title>\n<path fill=\"none\" stroke=\"black\" d=\"M522.62,-608.88C508.63,-599.3 493.23,-588.76 478.77,-578.86\"/>\n<polygon fill=\"black\" stroke=\"black\" points=\"480.62,-575.89 470.39,-573.12 476.66,-581.66 480.62,-575.89\"/>\n</g>\n<!-- 27 -->\n<g id=\"node28\" class=\"node\">\n<title>27</title>\n<polygon fill=\"none\" stroke=\"black\" points=\"612,-565.5 502,-565.5 502,-512.5 612,-512.5 612,-565.5\"/>\n<text text-anchor=\"middle\" x=\"557\" y=\"-550.3\" font-family=\"Helvetica,sans-Serif\" font-size=\"14.00\">gini = 0.625</text>\n<text text-anchor=\"middle\" x=\"557\" y=\"-535.3\" font-family=\"Helvetica,sans-Serif\" font-size=\"14.00\">samples = 4</text>\n<text text-anchor=\"middle\" x=\"557\" y=\"-520.3\" font-family=\"Helvetica,sans-Serif\" font-size=\"14.00\">value = [1, 2, 1]</text>\n</g>\n<!-- 23&#45;&gt;27 -->\n<g id=\"edge27\" class=\"edge\">\n<title>23&#45;&gt;27</title>\n<path fill=\"none\" stroke=\"black\" d=\"M566.45,-608.88C564.99,-598.22 563.36,-586.35 561.88,-575.52\"/>\n<polygon fill=\"black\" stroke=\"black\" points=\"565.33,-574.95 560.5,-565.52 558.4,-575.9 565.33,-574.95\"/>\n</g>\n<!-- 25 -->\n<g id=\"node26\" class=\"node\">\n<title>25</title>\n<polygon fill=\"none\" stroke=\"black\" points=\"415,-461.5 305,-461.5 305,-408.5 415,-408.5 415,-461.5\"/>\n<text text-anchor=\"middle\" x=\"360\" y=\"-446.3\" font-family=\"Helvetica,sans-Serif\" font-size=\"14.00\">gini = 0.568</text>\n<text text-anchor=\"middle\" x=\"360\" y=\"-431.3\" font-family=\"Helvetica,sans-Serif\" font-size=\"14.00\">samples = 9</text>\n<text text-anchor=\"middle\" x=\"360\" y=\"-416.3\" font-family=\"Helvetica,sans-Serif\" font-size=\"14.00\">value = [3, 5, 1]</text>\n</g>\n<!-- 24&#45;&gt;25 -->\n<g id=\"edge25\" class=\"edge\">\n<title>24&#45;&gt;25</title>\n<path fill=\"none\" stroke=\"black\" d=\"M401.87,-504.88C395.12,-493.78 387.58,-481.37 380.78,-470.18\"/>\n<polygon fill=\"black\" stroke=\"black\" points=\"383.7,-468.25 375.51,-461.52 377.72,-471.88 383.7,-468.25\"/>\n</g>\n<!-- 26 -->\n<g id=\"node27\" class=\"node\">\n<title>26</title>\n<polygon fill=\"none\" stroke=\"black\" points=\"550.5,-461.5 433.5,-461.5 433.5,-408.5 550.5,-408.5 550.5,-461.5\"/>\n<text text-anchor=\"middle\" x=\"492\" y=\"-446.3\" font-family=\"Helvetica,sans-Serif\" font-size=\"14.00\">gini = 0.57</text>\n<text text-anchor=\"middle\" x=\"492\" y=\"-431.3\" font-family=\"Helvetica,sans-Serif\" font-size=\"14.00\">samples = 25</text>\n<text text-anchor=\"middle\" x=\"492\" y=\"-416.3\" font-family=\"Helvetica,sans-Serif\" font-size=\"14.00\">value = [8, 14, 3]</text>\n</g>\n<!-- 24&#45;&gt;26 -->\n<g id=\"edge26\" class=\"edge\">\n<title>24&#45;&gt;26</title>\n<path fill=\"none\" stroke=\"black\" d=\"M444.73,-504.88C452.43,-493.67 461.03,-481.13 468.77,-469.85\"/>\n<polygon fill=\"black\" stroke=\"black\" points=\"471.71,-471.75 474.49,-461.52 465.94,-467.78 471.71,-471.75\"/>\n</g>\n<!-- 30 -->\n<g id=\"node31\" class=\"node\">\n<title>30</title>\n<polygon fill=\"none\" stroke=\"black\" points=\"957.5,-781 840.5,-781 840.5,-713 957.5,-713 957.5,-781\"/>\n<text text-anchor=\"middle\" x=\"899\" y=\"-765.8\" font-family=\"Helvetica,sans-Serif\" font-size=\"14.00\">X[0] &lt;= 17.5</text>\n<text text-anchor=\"middle\" x=\"899\" y=\"-750.8\" font-family=\"Helvetica,sans-Serif\" font-size=\"14.00\">gini = 0.499</text>\n<text text-anchor=\"middle\" x=\"899\" y=\"-735.8\" font-family=\"Helvetica,sans-Serif\" font-size=\"14.00\">samples = 23</text>\n<text text-anchor=\"middle\" x=\"899\" y=\"-720.8\" font-family=\"Helvetica,sans-Serif\" font-size=\"14.00\">value = [15, 6, 2]</text>\n</g>\n<!-- 29&#45;&gt;30 -->\n<g id=\"edge30\" class=\"edge\">\n<title>29&#45;&gt;30</title>\n<path fill=\"none\" stroke=\"black\" d=\"M899,-816.88C899,-808.78 899,-799.98 899,-791.47\"/>\n<polygon fill=\"black\" stroke=\"black\" points=\"902.5,-791.3 899,-781.3 895.5,-791.3 902.5,-791.3\"/>\n</g>\n<!-- 41 -->\n<g id=\"node42\" class=\"node\">\n<title>41</title>\n<polygon fill=\"none\" stroke=\"black\" points=\"1156,-781 1024,-781 1024,-713 1156,-713 1156,-781\"/>\n<text text-anchor=\"middle\" x=\"1090\" y=\"-765.8\" font-family=\"Helvetica,sans-Serif\" font-size=\"14.00\">X[0] &lt;= 28.5</text>\n<text text-anchor=\"middle\" x=\"1090\" y=\"-750.8\" font-family=\"Helvetica,sans-Serif\" font-size=\"14.00\">gini = 0.612</text>\n<text text-anchor=\"middle\" x=\"1090\" y=\"-735.8\" font-family=\"Helvetica,sans-Serif\" font-size=\"14.00\">samples = 70</text>\n<text text-anchor=\"middle\" x=\"1090\" y=\"-720.8\" font-family=\"Helvetica,sans-Serif\" font-size=\"14.00\">value = [31, 29, 10]</text>\n</g>\n<!-- 29&#45;&gt;41 -->\n<g id=\"edge41\" class=\"edge\">\n<title>29&#45;&gt;41</title>\n<path fill=\"none\" stroke=\"black\" d=\"M961.01,-816.88C979.54,-806.99 999.99,-796.07 1019.04,-785.9\"/>\n<polygon fill=\"black\" stroke=\"black\" points=\"1020.8,-788.92 1027.97,-781.12 1017.5,-782.75 1020.8,-788.92\"/>\n</g>\n<!-- 31 -->\n<g id=\"node32\" class=\"node\">\n<title>31</title>\n<polygon fill=\"none\" stroke=\"black\" points=\"877.5,-677 760.5,-677 760.5,-609 877.5,-609 877.5,-677\"/>\n<text text-anchor=\"middle\" x=\"819\" y=\"-661.8\" font-family=\"Helvetica,sans-Serif\" font-size=\"14.00\">X[0] &lt;= 16.5</text>\n<text text-anchor=\"middle\" x=\"819\" y=\"-646.8\" font-family=\"Helvetica,sans-Serif\" font-size=\"14.00\">gini = 0.554</text>\n<text text-anchor=\"middle\" x=\"819\" y=\"-631.8\" font-family=\"Helvetica,sans-Serif\" font-size=\"14.00\">samples = 17</text>\n<text text-anchor=\"middle\" x=\"819\" y=\"-616.8\" font-family=\"Helvetica,sans-Serif\" font-size=\"14.00\">value = [10, 5, 2]</text>\n</g>\n<!-- 30&#45;&gt;31 -->\n<g id=\"edge31\" class=\"edge\">\n<title>30&#45;&gt;31</title>\n<path fill=\"none\" stroke=\"black\" d=\"M873.03,-712.88C866.11,-704.07 858.55,-694.43 851.34,-685.24\"/>\n<polygon fill=\"black\" stroke=\"black\" points=\"854.04,-683.01 845.12,-677.3 848.53,-687.33 854.04,-683.01\"/>\n</g>\n<!-- 38 -->\n<g id=\"node39\" class=\"node\">\n<title>38</title>\n<polygon fill=\"none\" stroke=\"black\" points=\"1006,-677 896,-677 896,-609 1006,-609 1006,-677\"/>\n<text text-anchor=\"middle\" x=\"951\" y=\"-661.8\" font-family=\"Helvetica,sans-Serif\" font-size=\"14.00\">X[0] &lt;= 18.5</text>\n<text text-anchor=\"middle\" x=\"951\" y=\"-646.8\" font-family=\"Helvetica,sans-Serif\" font-size=\"14.00\">gini = 0.278</text>\n<text text-anchor=\"middle\" x=\"951\" y=\"-631.8\" font-family=\"Helvetica,sans-Serif\" font-size=\"14.00\">samples = 6</text>\n<text text-anchor=\"middle\" x=\"951\" y=\"-616.8\" font-family=\"Helvetica,sans-Serif\" font-size=\"14.00\">value = [5, 1, 0]</text>\n</g>\n<!-- 30&#45;&gt;38 -->\n<g id=\"edge38\" class=\"edge\">\n<title>30&#45;&gt;38</title>\n<path fill=\"none\" stroke=\"black\" d=\"M915.88,-712.88C920.2,-704.42 924.89,-695.21 929.41,-686.35\"/>\n<polygon fill=\"black\" stroke=\"black\" points=\"932.6,-687.8 934.02,-677.3 926.36,-684.62 932.6,-687.8\"/>\n</g>\n<!-- 32 -->\n<g id=\"node33\" class=\"node\">\n<title>32</title>\n<polygon fill=\"none\" stroke=\"black\" points=\"747.5,-573 630.5,-573 630.5,-505 747.5,-505 747.5,-573\"/>\n<text text-anchor=\"middle\" x=\"689\" y=\"-557.8\" font-family=\"Helvetica,sans-Serif\" font-size=\"14.00\">X[0] &lt;= 15.5</text>\n<text text-anchor=\"middle\" x=\"689\" y=\"-542.8\" font-family=\"Helvetica,sans-Serif\" font-size=\"14.00\">gini = 0.508</text>\n<text text-anchor=\"middle\" x=\"689\" y=\"-527.8\" font-family=\"Helvetica,sans-Serif\" font-size=\"14.00\">samples = 16</text>\n<text text-anchor=\"middle\" x=\"689\" y=\"-512.8\" font-family=\"Helvetica,sans-Serif\" font-size=\"14.00\">value = [10, 5, 1]</text>\n</g>\n<!-- 31&#45;&gt;32 -->\n<g id=\"edge32\" class=\"edge\">\n<title>31&#45;&gt;32</title>\n<path fill=\"none\" stroke=\"black\" d=\"M776.79,-608.88C764.87,-599.53 751.78,-589.26 739.43,-579.57\"/>\n<polygon fill=\"black\" stroke=\"black\" points=\"741.47,-576.72 731.44,-573.3 737.15,-582.23 741.47,-576.72\"/>\n</g>\n<!-- 37 -->\n<g id=\"node38\" class=\"node\">\n<title>37</title>\n<polygon fill=\"none\" stroke=\"black\" points=\"876,-565.5 766,-565.5 766,-512.5 876,-512.5 876,-565.5\"/>\n<text text-anchor=\"middle\" x=\"821\" y=\"-550.3\" font-family=\"Helvetica,sans-Serif\" font-size=\"14.00\">gini = 0.0</text>\n<text text-anchor=\"middle\" x=\"821\" y=\"-535.3\" font-family=\"Helvetica,sans-Serif\" font-size=\"14.00\">samples = 1</text>\n<text text-anchor=\"middle\" x=\"821\" y=\"-520.3\" font-family=\"Helvetica,sans-Serif\" font-size=\"14.00\">value = [0, 0, 1]</text>\n</g>\n<!-- 31&#45;&gt;37 -->\n<g id=\"edge37\" class=\"edge\">\n<title>31&#45;&gt;37</title>\n<path fill=\"none\" stroke=\"black\" d=\"M819.65,-608.88C819.86,-598.22 820.09,-586.35 820.3,-575.52\"/>\n<polygon fill=\"black\" stroke=\"black\" points=\"823.8,-575.59 820.5,-565.52 816.8,-575.45 823.8,-575.59\"/>\n</g>\n<!-- 33 -->\n<g id=\"node34\" class=\"node\">\n<title>33</title>\n<polygon fill=\"none\" stroke=\"black\" points=\"711,-469 601,-469 601,-401 711,-401 711,-469\"/>\n<text text-anchor=\"middle\" x=\"656\" y=\"-453.8\" font-family=\"Helvetica,sans-Serif\" font-size=\"14.00\">X[0] &lt;= 14.5</text>\n<text text-anchor=\"middle\" x=\"656\" y=\"-438.8\" font-family=\"Helvetica,sans-Serif\" font-size=\"14.00\">gini = 0.408</text>\n<text text-anchor=\"middle\" x=\"656\" y=\"-423.8\" font-family=\"Helvetica,sans-Serif\" font-size=\"14.00\">samples = 7</text>\n<text text-anchor=\"middle\" x=\"656\" y=\"-408.8\" font-family=\"Helvetica,sans-Serif\" font-size=\"14.00\">value = [5, 2, 0]</text>\n</g>\n<!-- 32&#45;&gt;33 -->\n<g id=\"edge33\" class=\"edge\">\n<title>32&#45;&gt;33</title>\n<path fill=\"none\" stroke=\"black\" d=\"M678.29,-504.88C675.61,-496.6 672.69,-487.6 669.88,-478.91\"/>\n<polygon fill=\"black\" stroke=\"black\" points=\"673.18,-477.74 666.77,-469.3 666.52,-479.89 673.18,-477.74\"/>\n</g>\n<!-- 36 -->\n<g id=\"node37\" class=\"node\">\n<title>36</title>\n<polygon fill=\"none\" stroke=\"black\" points=\"839,-461.5 729,-461.5 729,-408.5 839,-408.5 839,-461.5\"/>\n<text text-anchor=\"middle\" x=\"784\" y=\"-446.3\" font-family=\"Helvetica,sans-Serif\" font-size=\"14.00\">gini = 0.568</text>\n<text text-anchor=\"middle\" x=\"784\" y=\"-431.3\" font-family=\"Helvetica,sans-Serif\" font-size=\"14.00\">samples = 9</text>\n<text text-anchor=\"middle\" x=\"784\" y=\"-416.3\" font-family=\"Helvetica,sans-Serif\" font-size=\"14.00\">value = [5, 3, 1]</text>\n</g>\n<!-- 32&#45;&gt;36 -->\n<g id=\"edge36\" class=\"edge\">\n<title>32&#45;&gt;36</title>\n<path fill=\"none\" stroke=\"black\" d=\"M719.84,-504.88C730.6,-493.34 742.66,-480.39 753.39,-468.86\"/>\n<polygon fill=\"black\" stroke=\"black\" points=\"755.98,-471.22 760.23,-461.52 750.85,-466.45 755.98,-471.22\"/>\n</g>\n<!-- 34 -->\n<g id=\"node35\" class=\"node\">\n<title>34</title>\n<polygon fill=\"none\" stroke=\"black\" points=\"647,-357.5 537,-357.5 537,-304.5 647,-304.5 647,-357.5\"/>\n<text text-anchor=\"middle\" x=\"592\" y=\"-342.3\" font-family=\"Helvetica,sans-Serif\" font-size=\"14.00\">gini = 0.375</text>\n<text text-anchor=\"middle\" x=\"592\" y=\"-327.3\" font-family=\"Helvetica,sans-Serif\" font-size=\"14.00\">samples = 4</text>\n<text text-anchor=\"middle\" x=\"592\" y=\"-312.3\" font-family=\"Helvetica,sans-Serif\" font-size=\"14.00\">value = [3, 1, 0]</text>\n</g>\n<!-- 33&#45;&gt;34 -->\n<g id=\"edge34\" class=\"edge\">\n<title>33&#45;&gt;34</title>\n<path fill=\"none\" stroke=\"black\" d=\"M635.22,-400.88C628.25,-389.78 620.47,-377.37 613.45,-366.18\"/>\n<polygon fill=\"black\" stroke=\"black\" points=\"616.29,-364.13 608.01,-357.52 610.36,-367.85 616.29,-364.13\"/>\n</g>\n<!-- 35 -->\n<g id=\"node36\" class=\"node\">\n<title>35</title>\n<polygon fill=\"none\" stroke=\"black\" points=\"775,-357.5 665,-357.5 665,-304.5 775,-304.5 775,-357.5\"/>\n<text text-anchor=\"middle\" x=\"720\" y=\"-342.3\" font-family=\"Helvetica,sans-Serif\" font-size=\"14.00\">gini = 0.444</text>\n<text text-anchor=\"middle\" x=\"720\" y=\"-327.3\" font-family=\"Helvetica,sans-Serif\" font-size=\"14.00\">samples = 3</text>\n<text text-anchor=\"middle\" x=\"720\" y=\"-312.3\" font-family=\"Helvetica,sans-Serif\" font-size=\"14.00\">value = [2, 1, 0]</text>\n</g>\n<!-- 33&#45;&gt;35 -->\n<g id=\"edge35\" class=\"edge\">\n<title>33&#45;&gt;35</title>\n<path fill=\"none\" stroke=\"black\" d=\"M676.78,-400.88C683.75,-389.78 691.53,-377.37 698.55,-366.18\"/>\n<polygon fill=\"black\" stroke=\"black\" points=\"701.64,-367.85 703.99,-357.52 695.71,-364.13 701.64,-367.85\"/>\n</g>\n<!-- 39 -->\n<g id=\"node40\" class=\"node\">\n<title>39</title>\n<polygon fill=\"none\" stroke=\"black\" points=\"1004,-565.5 894,-565.5 894,-512.5 1004,-512.5 1004,-565.5\"/>\n<text text-anchor=\"middle\" x=\"949\" y=\"-550.3\" font-family=\"Helvetica,sans-Serif\" font-size=\"14.00\">gini = 0.32</text>\n<text text-anchor=\"middle\" x=\"949\" y=\"-535.3\" font-family=\"Helvetica,sans-Serif\" font-size=\"14.00\">samples = 5</text>\n<text text-anchor=\"middle\" x=\"949\" y=\"-520.3\" font-family=\"Helvetica,sans-Serif\" font-size=\"14.00\">value = [4, 1, 0]</text>\n</g>\n<!-- 38&#45;&gt;39 -->\n<g id=\"edge39\" class=\"edge\">\n<title>38&#45;&gt;39</title>\n<path fill=\"none\" stroke=\"black\" d=\"M950.35,-608.88C950.14,-598.22 949.91,-586.35 949.7,-575.52\"/>\n<polygon fill=\"black\" stroke=\"black\" points=\"953.2,-575.45 949.5,-565.52 946.2,-575.59 953.2,-575.45\"/>\n</g>\n<!-- 40 -->\n<g id=\"node41\" class=\"node\">\n<title>40</title>\n<polygon fill=\"none\" stroke=\"black\" points=\"1132,-565.5 1022,-565.5 1022,-512.5 1132,-512.5 1132,-565.5\"/>\n<text text-anchor=\"middle\" x=\"1077\" y=\"-550.3\" font-family=\"Helvetica,sans-Serif\" font-size=\"14.00\">gini = 0.0</text>\n<text text-anchor=\"middle\" x=\"1077\" y=\"-535.3\" font-family=\"Helvetica,sans-Serif\" font-size=\"14.00\">samples = 1</text>\n<text text-anchor=\"middle\" x=\"1077\" y=\"-520.3\" font-family=\"Helvetica,sans-Serif\" font-size=\"14.00\">value = [1, 0, 0]</text>\n</g>\n<!-- 38&#45;&gt;40 -->\n<g id=\"edge40\" class=\"edge\">\n<title>38&#45;&gt;40</title>\n<path fill=\"none\" stroke=\"black\" d=\"M991.91,-608.88C1006.58,-597.01 1023.08,-583.65 1037.62,-571.88\"/>\n<polygon fill=\"black\" stroke=\"black\" points=\"1039.91,-574.53 1045.48,-565.52 1035.5,-569.09 1039.91,-574.53\"/>\n</g>\n<!-- 42 -->\n<g id=\"node43\" class=\"node\">\n<title>42</title>\n<polygon fill=\"none\" stroke=\"black\" points=\"1152.5,-677 1027.5,-677 1027.5,-609 1152.5,-609 1152.5,-677\"/>\n<text text-anchor=\"middle\" x=\"1090\" y=\"-661.8\" font-family=\"Helvetica,sans-Serif\" font-size=\"14.00\">X[0] &lt;= 20.5</text>\n<text text-anchor=\"middle\" x=\"1090\" y=\"-646.8\" font-family=\"Helvetica,sans-Serif\" font-size=\"14.00\">gini = 0.604</text>\n<text text-anchor=\"middle\" x=\"1090\" y=\"-631.8\" font-family=\"Helvetica,sans-Serif\" font-size=\"14.00\">samples = 69</text>\n<text text-anchor=\"middle\" x=\"1090\" y=\"-616.8\" font-family=\"Helvetica,sans-Serif\" font-size=\"14.00\">value = [31, 29, 9]</text>\n</g>\n<!-- 41&#45;&gt;42 -->\n<g id=\"edge42\" class=\"edge\">\n<title>41&#45;&gt;42</title>\n<path fill=\"none\" stroke=\"black\" d=\"M1090,-712.88C1090,-704.78 1090,-695.98 1090,-687.47\"/>\n<polygon fill=\"black\" stroke=\"black\" points=\"1093.5,-687.3 1090,-677.3 1086.5,-687.3 1093.5,-687.3\"/>\n</g>\n<!-- 59 -->\n<g id=\"node60\" class=\"node\">\n<title>59</title>\n<polygon fill=\"none\" stroke=\"black\" points=\"1281,-669.5 1171,-669.5 1171,-616.5 1281,-616.5 1281,-669.5\"/>\n<text text-anchor=\"middle\" x=\"1226\" y=\"-654.3\" font-family=\"Helvetica,sans-Serif\" font-size=\"14.00\">gini = 0.0</text>\n<text text-anchor=\"middle\" x=\"1226\" y=\"-639.3\" font-family=\"Helvetica,sans-Serif\" font-size=\"14.00\">samples = 1</text>\n<text text-anchor=\"middle\" x=\"1226\" y=\"-624.3\" font-family=\"Helvetica,sans-Serif\" font-size=\"14.00\">value = [0, 0, 1]</text>\n</g>\n<!-- 41&#45;&gt;59 -->\n<g id=\"edge59\" class=\"edge\">\n<title>41&#45;&gt;59</title>\n<path fill=\"none\" stroke=\"black\" d=\"M1134.16,-712.88C1150.14,-700.9 1168.13,-687.4 1183.93,-675.55\"/>\n<polygon fill=\"black\" stroke=\"black\" points=\"1186.07,-678.32 1191.97,-669.52 1181.87,-672.72 1186.07,-678.32\"/>\n</g>\n<!-- 43 -->\n<g id=\"node44\" class=\"node\">\n<title>43</title>\n<polygon fill=\"none\" stroke=\"black\" points=\"1260,-565.5 1150,-565.5 1150,-512.5 1260,-512.5 1260,-565.5\"/>\n<text text-anchor=\"middle\" x=\"1205\" y=\"-550.3\" font-family=\"Helvetica,sans-Serif\" font-size=\"14.00\">gini = 0.0</text>\n<text text-anchor=\"middle\" x=\"1205\" y=\"-535.3\" font-family=\"Helvetica,sans-Serif\" font-size=\"14.00\">samples = 1</text>\n<text text-anchor=\"middle\" x=\"1205\" y=\"-520.3\" font-family=\"Helvetica,sans-Serif\" font-size=\"14.00\">value = [0, 1, 0]</text>\n</g>\n<!-- 42&#45;&gt;43 -->\n<g id=\"edge43\" class=\"edge\">\n<title>42&#45;&gt;43</title>\n<path fill=\"none\" stroke=\"black\" d=\"M1127.34,-608.88C1140.6,-597.12 1155.51,-583.89 1168.69,-572.2\"/>\n<polygon fill=\"black\" stroke=\"black\" points=\"1171.07,-574.77 1176.23,-565.52 1166.42,-569.54 1171.07,-574.77\"/>\n</g>\n<!-- 44 -->\n<g id=\"node45\" class=\"node\">\n<title>44</title>\n<polygon fill=\"none\" stroke=\"black\" points=\"1403.5,-573 1278.5,-573 1278.5,-505 1403.5,-505 1403.5,-573\"/>\n<text text-anchor=\"middle\" x=\"1341\" y=\"-557.8\" font-family=\"Helvetica,sans-Serif\" font-size=\"14.00\">X[0] &lt;= 22.5</text>\n<text text-anchor=\"middle\" x=\"1341\" y=\"-542.8\" font-family=\"Helvetica,sans-Serif\" font-size=\"14.00\">gini = 0.605</text>\n<text text-anchor=\"middle\" x=\"1341\" y=\"-527.8\" font-family=\"Helvetica,sans-Serif\" font-size=\"14.00\">samples = 68</text>\n<text text-anchor=\"middle\" x=\"1341\" y=\"-512.8\" font-family=\"Helvetica,sans-Serif\" font-size=\"14.00\">value = [31, 28, 9]</text>\n</g>\n<!-- 42&#45;&gt;44 -->\n<g id=\"edge44\" class=\"edge\">\n<title>42&#45;&gt;44</title>\n<path fill=\"none\" stroke=\"black\" d=\"M1152.66,-612.81C1155.81,-611.49 1158.93,-610.22 1162,-609 1208.65,-590.52 1222.35,-591.48 1269,-573 1269.1,-572.96 1269.19,-572.92 1269.29,-572.89\"/>\n<polygon fill=\"black\" stroke=\"black\" points=\"1270.4,-576.21 1278.34,-569.19 1267.76,-569.73 1270.4,-576.21\"/>\n</g>\n<!-- 45 -->\n<g id=\"node46\" class=\"node\">\n<title>45</title>\n<polygon fill=\"none\" stroke=\"black\" points=\"1331.5,-469 1206.5,-469 1206.5,-401 1331.5,-401 1331.5,-469\"/>\n<text text-anchor=\"middle\" x=\"1269\" y=\"-453.8\" font-family=\"Helvetica,sans-Serif\" font-size=\"14.00\">X[0] &lt;= 21.5</text>\n<text text-anchor=\"middle\" x=\"1269\" y=\"-438.8\" font-family=\"Helvetica,sans-Serif\" font-size=\"14.00\">gini = 0.58</text>\n<text text-anchor=\"middle\" x=\"1269\" y=\"-423.8\" font-family=\"Helvetica,sans-Serif\" font-size=\"14.00\">samples = 32</text>\n<text text-anchor=\"middle\" x=\"1269\" y=\"-408.8\" font-family=\"Helvetica,sans-Serif\" font-size=\"14.00\">value = [14, 15, 3]</text>\n</g>\n<!-- 44&#45;&gt;45 -->\n<g id=\"edge45\" class=\"edge\">\n<title>44&#45;&gt;45</title>\n<path fill=\"none\" stroke=\"black\" d=\"M1317.62,-504.88C1311.46,-496.15 1304.74,-486.62 1298.3,-477.51\"/>\n<polygon fill=\"black\" stroke=\"black\" points=\"1301.13,-475.45 1292.51,-469.3 1295.41,-479.49 1301.13,-475.45\"/>\n</g>\n<!-- 48 -->\n<g id=\"node49\" class=\"node\">\n<title>48</title>\n<polygon fill=\"none\" stroke=\"black\" points=\"1474.5,-469 1349.5,-469 1349.5,-401 1474.5,-401 1474.5,-469\"/>\n<text text-anchor=\"middle\" x=\"1412\" y=\"-453.8\" font-family=\"Helvetica,sans-Serif\" font-size=\"14.00\">X[0] &lt;= 23.5</text>\n<text text-anchor=\"middle\" x=\"1412\" y=\"-438.8\" font-family=\"Helvetica,sans-Serif\" font-size=\"14.00\">gini = 0.619</text>\n<text text-anchor=\"middle\" x=\"1412\" y=\"-423.8\" font-family=\"Helvetica,sans-Serif\" font-size=\"14.00\">samples = 36</text>\n<text text-anchor=\"middle\" x=\"1412\" y=\"-408.8\" font-family=\"Helvetica,sans-Serif\" font-size=\"14.00\">value = [17, 13, 6]</text>\n</g>\n<!-- 44&#45;&gt;48 -->\n<g id=\"edge48\" class=\"edge\">\n<title>44&#45;&gt;48</title>\n<path fill=\"none\" stroke=\"black\" d=\"M1364.05,-504.88C1370.13,-496.15 1376.76,-486.62 1383.1,-477.51\"/>\n<polygon fill=\"black\" stroke=\"black\" points=\"1385.98,-479.51 1388.82,-469.3 1380.24,-475.51 1385.98,-479.51\"/>\n</g>\n<!-- 46 -->\n<g id=\"node47\" class=\"node\">\n<title>46</title>\n<polygon fill=\"none\" stroke=\"black\" points=\"1200,-357.5 1090,-357.5 1090,-304.5 1200,-304.5 1200,-357.5\"/>\n<text text-anchor=\"middle\" x=\"1145\" y=\"-342.3\" font-family=\"Helvetica,sans-Serif\" font-size=\"14.00\">gini = 0.63</text>\n<text text-anchor=\"middle\" x=\"1145\" y=\"-327.3\" font-family=\"Helvetica,sans-Serif\" font-size=\"14.00\">samples = 17</text>\n<text text-anchor=\"middle\" x=\"1145\" y=\"-312.3\" font-family=\"Helvetica,sans-Serif\" font-size=\"14.00\">value = [7, 7, 3]</text>\n</g>\n<!-- 45&#45;&gt;46 -->\n<g id=\"edge46\" class=\"edge\">\n<title>45&#45;&gt;46</title>\n<path fill=\"none\" stroke=\"black\" d=\"M1228.74,-400.88C1214.3,-389.01 1198.06,-375.65 1183.75,-363.88\"/>\n<polygon fill=\"black\" stroke=\"black\" points=\"1185.97,-361.17 1176.02,-357.52 1181.52,-366.58 1185.97,-361.17\"/>\n</g>\n<!-- 47 -->\n<g id=\"node48\" class=\"node\">\n<title>47</title>\n<polygon fill=\"none\" stroke=\"black\" points=\"1328,-357.5 1218,-357.5 1218,-304.5 1328,-304.5 1328,-357.5\"/>\n<text text-anchor=\"middle\" x=\"1273\" y=\"-342.3\" font-family=\"Helvetica,sans-Serif\" font-size=\"14.00\">gini = 0.498</text>\n<text text-anchor=\"middle\" x=\"1273\" y=\"-327.3\" font-family=\"Helvetica,sans-Serif\" font-size=\"14.00\">samples = 15</text>\n<text text-anchor=\"middle\" x=\"1273\" y=\"-312.3\" font-family=\"Helvetica,sans-Serif\" font-size=\"14.00\">value = [7, 8, 0]</text>\n</g>\n<!-- 45&#45;&gt;47 -->\n<g id=\"edge47\" class=\"edge\">\n<title>45&#45;&gt;47</title>\n<path fill=\"none\" stroke=\"black\" d=\"M1270.3,-400.88C1270.72,-390.22 1271.18,-378.35 1271.61,-367.52\"/>\n<polygon fill=\"black\" stroke=\"black\" points=\"1275.1,-367.65 1272,-357.52 1268.11,-367.38 1275.1,-367.65\"/>\n</g>\n<!-- 49 -->\n<g id=\"node50\" class=\"node\">\n<title>49</title>\n<polygon fill=\"none\" stroke=\"black\" points=\"1463,-357.5 1353,-357.5 1353,-304.5 1463,-304.5 1463,-357.5\"/>\n<text text-anchor=\"middle\" x=\"1408\" y=\"-342.3\" font-family=\"Helvetica,sans-Serif\" font-size=\"14.00\">gini = 0.0</text>\n<text text-anchor=\"middle\" x=\"1408\" y=\"-327.3\" font-family=\"Helvetica,sans-Serif\" font-size=\"14.00\">samples = 1</text>\n<text text-anchor=\"middle\" x=\"1408\" y=\"-312.3\" font-family=\"Helvetica,sans-Serif\" font-size=\"14.00\">value = [0, 0, 1]</text>\n</g>\n<!-- 48&#45;&gt;49 -->\n<g id=\"edge49\" class=\"edge\">\n<title>48&#45;&gt;49</title>\n<path fill=\"none\" stroke=\"black\" d=\"M1410.7,-400.88C1410.28,-390.22 1409.82,-378.35 1409.39,-367.52\"/>\n<polygon fill=\"black\" stroke=\"black\" points=\"1412.89,-367.38 1409,-357.52 1405.9,-367.65 1412.89,-367.38\"/>\n</g>\n<!-- 50 -->\n<g id=\"node51\" class=\"node\">\n<title>50</title>\n<polygon fill=\"none\" stroke=\"black\" points=\"1606.5,-365 1481.5,-365 1481.5,-297 1606.5,-297 1606.5,-365\"/>\n<text text-anchor=\"middle\" x=\"1544\" y=\"-349.8\" font-family=\"Helvetica,sans-Serif\" font-size=\"14.00\">X[0] &lt;= 26.5</text>\n<text text-anchor=\"middle\" x=\"1544\" y=\"-334.8\" font-family=\"Helvetica,sans-Serif\" font-size=\"14.00\">gini = 0.606</text>\n<text text-anchor=\"middle\" x=\"1544\" y=\"-319.8\" font-family=\"Helvetica,sans-Serif\" font-size=\"14.00\">samples = 35</text>\n<text text-anchor=\"middle\" x=\"1544\" y=\"-304.8\" font-family=\"Helvetica,sans-Serif\" font-size=\"14.00\">value = [17, 13, 5]</text>\n</g>\n<!-- 48&#45;&gt;50 -->\n<g id=\"edge50\" class=\"edge\">\n<title>48&#45;&gt;50</title>\n<path fill=\"none\" stroke=\"black\" d=\"M1454.86,-400.88C1466.96,-391.53 1480.25,-381.26 1492.79,-371.57\"/>\n<polygon fill=\"black\" stroke=\"black\" points=\"1495.13,-374.18 1500.91,-365.3 1490.85,-368.64 1495.13,-374.18\"/>\n</g>\n<!-- 51 -->\n<g id=\"node52\" class=\"node\">\n<title>51</title>\n<polygon fill=\"none\" stroke=\"black\" points=\"1531,-261 1421,-261 1421,-193 1531,-193 1531,-261\"/>\n<text text-anchor=\"middle\" x=\"1476\" y=\"-245.8\" font-family=\"Helvetica,sans-Serif\" font-size=\"14.00\">X[0] &lt;= 25.5</text>\n<text text-anchor=\"middle\" x=\"1476\" y=\"-230.8\" font-family=\"Helvetica,sans-Serif\" font-size=\"14.00\">gini = 0.645</text>\n<text text-anchor=\"middle\" x=\"1476\" y=\"-215.8\" font-family=\"Helvetica,sans-Serif\" font-size=\"14.00\">samples = 11</text>\n<text text-anchor=\"middle\" x=\"1476\" y=\"-200.8\" font-family=\"Helvetica,sans-Serif\" font-size=\"14.00\">value = [5, 3, 3]</text>\n</g>\n<!-- 50&#45;&gt;51 -->\n<g id=\"edge51\" class=\"edge\">\n<title>50&#45;&gt;51</title>\n<path fill=\"none\" stroke=\"black\" d=\"M1521.92,-296.88C1516.16,-288.24 1509.88,-278.82 1503.86,-269.79\"/>\n<polygon fill=\"black\" stroke=\"black\" points=\"1506.66,-267.68 1498.2,-261.3 1500.83,-271.56 1506.66,-267.68\"/>\n</g>\n<!-- 56 -->\n<g id=\"node57\" class=\"node\">\n<title>56</title>\n<polygon fill=\"none\" stroke=\"black\" points=\"1674.5,-261 1549.5,-261 1549.5,-193 1674.5,-193 1674.5,-261\"/>\n<text text-anchor=\"middle\" x=\"1612\" y=\"-245.8\" font-family=\"Helvetica,sans-Serif\" font-size=\"14.00\">X[0] &lt;= 27.5</text>\n<text text-anchor=\"middle\" x=\"1612\" y=\"-230.8\" font-family=\"Helvetica,sans-Serif\" font-size=\"14.00\">gini = 0.569</text>\n<text text-anchor=\"middle\" x=\"1612\" y=\"-215.8\" font-family=\"Helvetica,sans-Serif\" font-size=\"14.00\">samples = 24</text>\n<text text-anchor=\"middle\" x=\"1612\" y=\"-200.8\" font-family=\"Helvetica,sans-Serif\" font-size=\"14.00\">value = [12, 10, 2]</text>\n</g>\n<!-- 50&#45;&gt;56 -->\n<g id=\"edge56\" class=\"edge\">\n<title>50&#45;&gt;56</title>\n<path fill=\"none\" stroke=\"black\" d=\"M1566.08,-296.88C1571.84,-288.24 1578.12,-278.82 1584.14,-269.79\"/>\n<polygon fill=\"black\" stroke=\"black\" points=\"1587.17,-271.56 1589.8,-261.3 1581.34,-267.68 1587.17,-271.56\"/>\n</g>\n<!-- 52 -->\n<g id=\"node53\" class=\"node\">\n<title>52</title>\n<polygon fill=\"none\" stroke=\"black\" points=\"1405,-157 1295,-157 1295,-89 1405,-89 1405,-157\"/>\n<text text-anchor=\"middle\" x=\"1350\" y=\"-141.8\" font-family=\"Helvetica,sans-Serif\" font-size=\"14.00\">X[0] &lt;= 24.5</text>\n<text text-anchor=\"middle\" x=\"1350\" y=\"-126.8\" font-family=\"Helvetica,sans-Serif\" font-size=\"14.00\">gini = 0.62</text>\n<text text-anchor=\"middle\" x=\"1350\" y=\"-111.8\" font-family=\"Helvetica,sans-Serif\" font-size=\"14.00\">samples = 10</text>\n<text text-anchor=\"middle\" x=\"1350\" y=\"-96.8\" font-family=\"Helvetica,sans-Serif\" font-size=\"14.00\">value = [5, 3, 2]</text>\n</g>\n<!-- 51&#45;&gt;52 -->\n<g id=\"edge52\" class=\"edge\">\n<title>51&#45;&gt;52</title>\n<path fill=\"none\" stroke=\"black\" d=\"M1435.09,-192.88C1423.65,-183.62 1411.09,-173.45 1399.22,-163.85\"/>\n<polygon fill=\"black\" stroke=\"black\" points=\"1401.11,-160.87 1391.13,-157.3 1396.7,-166.31 1401.11,-160.87\"/>\n</g>\n<!-- 55 -->\n<g id=\"node56\" class=\"node\">\n<title>55</title>\n<polygon fill=\"none\" stroke=\"black\" points=\"1533,-149.5 1423,-149.5 1423,-96.5 1533,-96.5 1533,-149.5\"/>\n<text text-anchor=\"middle\" x=\"1478\" y=\"-134.3\" font-family=\"Helvetica,sans-Serif\" font-size=\"14.00\">gini = 0.0</text>\n<text text-anchor=\"middle\" x=\"1478\" y=\"-119.3\" font-family=\"Helvetica,sans-Serif\" font-size=\"14.00\">samples = 1</text>\n<text text-anchor=\"middle\" x=\"1478\" y=\"-104.3\" font-family=\"Helvetica,sans-Serif\" font-size=\"14.00\">value = [0, 0, 1]</text>\n</g>\n<!-- 51&#45;&gt;55 -->\n<g id=\"edge55\" class=\"edge\">\n<title>51&#45;&gt;55</title>\n<path fill=\"none\" stroke=\"black\" d=\"M1476.65,-192.88C1476.86,-182.22 1477.09,-170.35 1477.3,-159.52\"/>\n<polygon fill=\"black\" stroke=\"black\" points=\"1480.8,-159.59 1477.5,-149.52 1473.8,-159.45 1480.8,-159.59\"/>\n</g>\n<!-- 53 -->\n<g id=\"node54\" class=\"node\">\n<title>53</title>\n<polygon fill=\"none\" stroke=\"black\" points=\"1341,-53 1231,-53 1231,0 1341,0 1341,-53\"/>\n<text text-anchor=\"middle\" x=\"1286\" y=\"-37.8\" font-family=\"Helvetica,sans-Serif\" font-size=\"14.00\">gini = 0.0</text>\n<text text-anchor=\"middle\" x=\"1286\" y=\"-22.8\" font-family=\"Helvetica,sans-Serif\" font-size=\"14.00\">samples = 1</text>\n<text text-anchor=\"middle\" x=\"1286\" y=\"-7.8\" font-family=\"Helvetica,sans-Serif\" font-size=\"14.00\">value = [1, 0, 0]</text>\n</g>\n<!-- 52&#45;&gt;53 -->\n<g id=\"edge53\" class=\"edge\">\n<title>52&#45;&gt;53</title>\n<path fill=\"none\" stroke=\"black\" d=\"M1327.62,-88.95C1321.61,-80.07 1315.1,-70.46 1309.05,-61.54\"/>\n<polygon fill=\"black\" stroke=\"black\" points=\"1311.94,-59.55 1303.43,-53.24 1306.14,-63.48 1311.94,-59.55\"/>\n</g>\n<!-- 54 -->\n<g id=\"node55\" class=\"node\">\n<title>54</title>\n<polygon fill=\"none\" stroke=\"black\" points=\"1469,-53 1359,-53 1359,0 1469,0 1469,-53\"/>\n<text text-anchor=\"middle\" x=\"1414\" y=\"-37.8\" font-family=\"Helvetica,sans-Serif\" font-size=\"14.00\">gini = 0.642</text>\n<text text-anchor=\"middle\" x=\"1414\" y=\"-22.8\" font-family=\"Helvetica,sans-Serif\" font-size=\"14.00\">samples = 9</text>\n<text text-anchor=\"middle\" x=\"1414\" y=\"-7.8\" font-family=\"Helvetica,sans-Serif\" font-size=\"14.00\">value = [4, 3, 2]</text>\n</g>\n<!-- 52&#45;&gt;54 -->\n<g id=\"edge54\" class=\"edge\">\n<title>52&#45;&gt;54</title>\n<path fill=\"none\" stroke=\"black\" d=\"M1372.38,-88.95C1378.39,-80.07 1384.9,-70.46 1390.95,-61.54\"/>\n<polygon fill=\"black\" stroke=\"black\" points=\"1393.86,-63.48 1396.57,-53.24 1388.06,-59.55 1393.86,-63.48\"/>\n</g>\n<!-- 57 -->\n<g id=\"node58\" class=\"node\">\n<title>57</title>\n<polygon fill=\"none\" stroke=\"black\" points=\"1665,-149.5 1555,-149.5 1555,-96.5 1665,-96.5 1665,-149.5\"/>\n<text text-anchor=\"middle\" x=\"1610\" y=\"-134.3\" font-family=\"Helvetica,sans-Serif\" font-size=\"14.00\">gini = 0.0</text>\n<text text-anchor=\"middle\" x=\"1610\" y=\"-119.3\" font-family=\"Helvetica,sans-Serif\" font-size=\"14.00\">samples = 1</text>\n<text text-anchor=\"middle\" x=\"1610\" y=\"-104.3\" font-family=\"Helvetica,sans-Serif\" font-size=\"14.00\">value = [0, 1, 0]</text>\n</g>\n<!-- 56&#45;&gt;57 -->\n<g id=\"edge57\" class=\"edge\">\n<title>56&#45;&gt;57</title>\n<path fill=\"none\" stroke=\"black\" d=\"M1611.35,-192.88C1611.14,-182.22 1610.91,-170.35 1610.7,-159.52\"/>\n<polygon fill=\"black\" stroke=\"black\" points=\"1614.2,-159.45 1610.5,-149.52 1607.2,-159.59 1614.2,-159.45\"/>\n</g>\n<!-- 58 -->\n<g id=\"node59\" class=\"node\">\n<title>58</title>\n<polygon fill=\"none\" stroke=\"black\" points=\"1800.5,-149.5 1683.5,-149.5 1683.5,-96.5 1800.5,-96.5 1800.5,-149.5\"/>\n<text text-anchor=\"middle\" x=\"1742\" y=\"-134.3\" font-family=\"Helvetica,sans-Serif\" font-size=\"14.00\">gini = 0.567</text>\n<text text-anchor=\"middle\" x=\"1742\" y=\"-119.3\" font-family=\"Helvetica,sans-Serif\" font-size=\"14.00\">samples = 23</text>\n<text text-anchor=\"middle\" x=\"1742\" y=\"-104.3\" font-family=\"Helvetica,sans-Serif\" font-size=\"14.00\">value = [12, 9, 2]</text>\n</g>\n<!-- 56&#45;&gt;58 -->\n<g id=\"edge58\" class=\"edge\">\n<title>56&#45;&gt;58</title>\n<path fill=\"none\" stroke=\"black\" d=\"M1654.21,-192.88C1669.35,-181.01 1686.37,-167.65 1701.37,-155.88\"/>\n<polygon fill=\"black\" stroke=\"black\" points=\"1703.77,-158.45 1709.47,-149.52 1699.45,-152.94 1703.77,-158.45\"/>\n</g>\n<!-- 62 -->\n<g id=\"node63\" class=\"node\">\n<title>62</title>\n<polygon fill=\"none\" stroke=\"black\" points=\"1206,-981.5 1096,-981.5 1096,-928.5 1206,-928.5 1206,-981.5\"/>\n<text text-anchor=\"middle\" x=\"1151\" y=\"-966.3\" font-family=\"Helvetica,sans-Serif\" font-size=\"14.00\">gini = 0.0</text>\n<text text-anchor=\"middle\" x=\"1151\" y=\"-951.3\" font-family=\"Helvetica,sans-Serif\" font-size=\"14.00\">samples = 2</text>\n<text text-anchor=\"middle\" x=\"1151\" y=\"-936.3\" font-family=\"Helvetica,sans-Serif\" font-size=\"14.00\">value = [0, 0, 2]</text>\n</g>\n<!-- 61&#45;&gt;62 -->\n<g id=\"edge62\" class=\"edge\">\n<title>61&#45;&gt;62</title>\n<path fill=\"none\" stroke=\"black\" d=\"M1152.35,-1024.88C1152.14,-1014.22 1151.91,-1002.35 1151.7,-991.52\"/>\n<polygon fill=\"black\" stroke=\"black\" points=\"1155.2,-991.45 1151.5,-981.52 1148.2,-991.59 1155.2,-991.45\"/>\n</g>\n<!-- 63 -->\n<g id=\"node64\" class=\"node\">\n<title>63</title>\n<polygon fill=\"none\" stroke=\"black\" points=\"1334,-989 1224,-989 1224,-921 1334,-921 1334,-989\"/>\n<text text-anchor=\"middle\" x=\"1279\" y=\"-973.8\" font-family=\"Helvetica,sans-Serif\" font-size=\"14.00\">X[0] &lt;= 32.5</text>\n<text text-anchor=\"middle\" x=\"1279\" y=\"-958.8\" font-family=\"Helvetica,sans-Serif\" font-size=\"14.00\">gini = 0.663</text>\n<text text-anchor=\"middle\" x=\"1279\" y=\"-943.8\" font-family=\"Helvetica,sans-Serif\" font-size=\"14.00\">samples = 14</text>\n<text text-anchor=\"middle\" x=\"1279\" y=\"-928.8\" font-family=\"Helvetica,sans-Serif\" font-size=\"14.00\">value = [4, 5, 5]</text>\n</g>\n<!-- 61&#45;&gt;63 -->\n<g id=\"edge63\" class=\"edge\">\n<title>61&#45;&gt;63</title>\n<path fill=\"none\" stroke=\"black\" d=\"M1193.91,-1024.88C1205.35,-1015.62 1217.91,-1005.45 1229.78,-995.85\"/>\n<polygon fill=\"black\" stroke=\"black\" points=\"1232.3,-998.31 1237.87,-989.3 1227.89,-992.87 1232.3,-998.31\"/>\n</g>\n<!-- 64 -->\n<g id=\"node65\" class=\"node\">\n<title>64</title>\n<polygon fill=\"none\" stroke=\"black\" points=\"1270,-877.5 1160,-877.5 1160,-824.5 1270,-824.5 1270,-877.5\"/>\n<text text-anchor=\"middle\" x=\"1215\" y=\"-862.3\" font-family=\"Helvetica,sans-Serif\" font-size=\"14.00\">gini = 0.444</text>\n<text text-anchor=\"middle\" x=\"1215\" y=\"-847.3\" font-family=\"Helvetica,sans-Serif\" font-size=\"14.00\">samples = 3</text>\n<text text-anchor=\"middle\" x=\"1215\" y=\"-832.3\" font-family=\"Helvetica,sans-Serif\" font-size=\"14.00\">value = [1, 2, 0]</text>\n</g>\n<!-- 63&#45;&gt;64 -->\n<g id=\"edge64\" class=\"edge\">\n<title>63&#45;&gt;64</title>\n<path fill=\"none\" stroke=\"black\" d=\"M1258.22,-920.88C1251.25,-909.78 1243.47,-897.37 1236.45,-886.18\"/>\n<polygon fill=\"black\" stroke=\"black\" points=\"1239.29,-884.13 1231.01,-877.52 1233.36,-887.85 1239.29,-884.13\"/>\n</g>\n<!-- 65 -->\n<g id=\"node66\" class=\"node\">\n<title>65</title>\n<polygon fill=\"none\" stroke=\"black\" points=\"1398,-877.5 1288,-877.5 1288,-824.5 1398,-824.5 1398,-877.5\"/>\n<text text-anchor=\"middle\" x=\"1343\" y=\"-862.3\" font-family=\"Helvetica,sans-Serif\" font-size=\"14.00\">gini = 0.645</text>\n<text text-anchor=\"middle\" x=\"1343\" y=\"-847.3\" font-family=\"Helvetica,sans-Serif\" font-size=\"14.00\">samples = 11</text>\n<text text-anchor=\"middle\" x=\"1343\" y=\"-832.3\" font-family=\"Helvetica,sans-Serif\" font-size=\"14.00\">value = [3, 3, 5]</text>\n</g>\n<!-- 63&#45;&gt;65 -->\n<g id=\"edge65\" class=\"edge\">\n<title>63&#45;&gt;65</title>\n<path fill=\"none\" stroke=\"black\" d=\"M1299.78,-920.88C1306.75,-909.78 1314.53,-897.37 1321.55,-886.18\"/>\n<polygon fill=\"black\" stroke=\"black\" points=\"1324.64,-887.85 1326.99,-877.52 1318.71,-884.13 1324.64,-887.85\"/>\n</g>\n<!-- 67 -->\n<g id=\"node68\" class=\"node\">\n<title>67</title>\n<polygon fill=\"none\" stroke=\"black\" points=\"1550.5,-1197 1403.5,-1197 1403.5,-1129 1550.5,-1129 1550.5,-1197\"/>\n<text text-anchor=\"middle\" x=\"1477\" y=\"-1181.8\" font-family=\"Helvetica,sans-Serif\" font-size=\"14.00\">X[0] &lt;= 34.5</text>\n<text text-anchor=\"middle\" x=\"1477\" y=\"-1166.8\" font-family=\"Helvetica,sans-Serif\" font-size=\"14.00\">gini = 0.05</text>\n<text text-anchor=\"middle\" x=\"1477\" y=\"-1151.8\" font-family=\"Helvetica,sans-Serif\" font-size=\"14.00\">samples = 1768</text>\n<text text-anchor=\"middle\" x=\"1477\" y=\"-1136.8\" font-family=\"Helvetica,sans-Serif\" font-size=\"14.00\">value = [25, 1723, 20]</text>\n</g>\n<!-- 66&#45;&gt;67 -->\n<g id=\"edge67\" class=\"edge\">\n<title>66&#45;&gt;67</title>\n<path fill=\"none\" stroke=\"black\" d=\"M1477,-1232.88C1477,-1224.78 1477,-1215.98 1477,-1207.47\"/>\n<polygon fill=\"black\" stroke=\"black\" points=\"1480.5,-1207.3 1477,-1197.3 1473.5,-1207.3 1480.5,-1207.3\"/>\n</g>\n<!-- 70 -->\n<g id=\"node71\" class=\"node\">\n<title>70</title>\n<polygon fill=\"none\" stroke=\"black\" points=\"1763,-1197 1631,-1197 1631,-1129 1763,-1129 1763,-1197\"/>\n<text text-anchor=\"middle\" x=\"1697\" y=\"-1181.8\" font-family=\"Helvetica,sans-Serif\" font-size=\"14.00\">X[0] &lt;= 46.5</text>\n<text text-anchor=\"middle\" x=\"1697\" y=\"-1166.8\" font-family=\"Helvetica,sans-Serif\" font-size=\"14.00\">gini = 0.58</text>\n<text text-anchor=\"middle\" x=\"1697\" y=\"-1151.8\" font-family=\"Helvetica,sans-Serif\" font-size=\"14.00\">samples = 161</text>\n<text text-anchor=\"middle\" x=\"1697\" y=\"-1136.8\" font-family=\"Helvetica,sans-Serif\" font-size=\"14.00\">value = [73, 73, 15]</text>\n</g>\n<!-- 66&#45;&gt;70 -->\n<g id=\"edge70\" class=\"edge\">\n<title>66&#45;&gt;70</title>\n<path fill=\"none\" stroke=\"black\" d=\"M1548.43,-1232.88C1571.8,-1222.05 1597.83,-1209.98 1621.49,-1199.01\"/>\n<polygon fill=\"black\" stroke=\"black\" points=\"1623.18,-1202.08 1630.78,-1194.7 1620.23,-1195.73 1623.18,-1202.08\"/>\n</g>\n<!-- 68 -->\n<g id=\"node69\" class=\"node\">\n<title>68</title>\n<polygon fill=\"none\" stroke=\"black\" points=\"1445.5,-1085.5 1298.5,-1085.5 1298.5,-1032.5 1445.5,-1032.5 1445.5,-1085.5\"/>\n<text text-anchor=\"middle\" x=\"1372\" y=\"-1070.3\" font-family=\"Helvetica,sans-Serif\" font-size=\"14.00\">gini = 0.05</text>\n<text text-anchor=\"middle\" x=\"1372\" y=\"-1055.3\" font-family=\"Helvetica,sans-Serif\" font-size=\"14.00\">samples = 1763</text>\n<text text-anchor=\"middle\" x=\"1372\" y=\"-1040.3\" font-family=\"Helvetica,sans-Serif\" font-size=\"14.00\">value = [25, 1718, 20]</text>\n</g>\n<!-- 67&#45;&gt;68 -->\n<g id=\"edge68\" class=\"edge\">\n<title>67&#45;&gt;68</title>\n<path fill=\"none\" stroke=\"black\" d=\"M1442.91,-1128.88C1430.91,-1117.23 1417.44,-1104.14 1405.49,-1092.53\"/>\n<polygon fill=\"black\" stroke=\"black\" points=\"1407.88,-1089.98 1398.27,-1085.52 1403,-1095 1407.88,-1089.98\"/>\n</g>\n<!-- 69 -->\n<g id=\"node70\" class=\"node\">\n<title>69</title>\n<polygon fill=\"none\" stroke=\"black\" points=\"1574,-1085.5 1464,-1085.5 1464,-1032.5 1574,-1032.5 1574,-1085.5\"/>\n<text text-anchor=\"middle\" x=\"1519\" y=\"-1070.3\" font-family=\"Helvetica,sans-Serif\" font-size=\"14.00\">gini = 0.0</text>\n<text text-anchor=\"middle\" x=\"1519\" y=\"-1055.3\" font-family=\"Helvetica,sans-Serif\" font-size=\"14.00\">samples = 5</text>\n<text text-anchor=\"middle\" x=\"1519\" y=\"-1040.3\" font-family=\"Helvetica,sans-Serif\" font-size=\"14.00\">value = [0, 5, 0]</text>\n</g>\n<!-- 67&#45;&gt;69 -->\n<g id=\"edge69\" class=\"edge\">\n<title>67&#45;&gt;69</title>\n<path fill=\"none\" stroke=\"black\" d=\"M1490.64,-1128.88C1495.12,-1118 1500.12,-1105.86 1504.65,-1094.85\"/>\n<polygon fill=\"black\" stroke=\"black\" points=\"1507.92,-1096.1 1508.49,-1085.52 1501.45,-1093.43 1507.92,-1096.1\"/>\n</g>\n<!-- 71 -->\n<g id=\"node72\" class=\"node\">\n<title>71</title>\n<polygon fill=\"none\" stroke=\"black\" points=\"1759.5,-1093 1634.5,-1093 1634.5,-1025 1759.5,-1025 1759.5,-1093\"/>\n<text text-anchor=\"middle\" x=\"1697\" y=\"-1077.8\" font-family=\"Helvetica,sans-Serif\" font-size=\"14.00\">X[0] &lt;= 42.5</text>\n<text text-anchor=\"middle\" x=\"1697\" y=\"-1062.8\" font-family=\"Helvetica,sans-Serif\" font-size=\"14.00\">gini = 0.562</text>\n<text text-anchor=\"middle\" x=\"1697\" y=\"-1047.8\" font-family=\"Helvetica,sans-Serif\" font-size=\"14.00\">samples = 124</text>\n<text text-anchor=\"middle\" x=\"1697\" y=\"-1032.8\" font-family=\"Helvetica,sans-Serif\" font-size=\"14.00\">value = [62, 53, 9]</text>\n</g>\n<!-- 70&#45;&gt;71 -->\n<g id=\"edge71\" class=\"edge\">\n<title>70&#45;&gt;71</title>\n<path fill=\"none\" stroke=\"black\" d=\"M1697,-1128.88C1697,-1120.78 1697,-1111.98 1697,-1103.47\"/>\n<polygon fill=\"black\" stroke=\"black\" points=\"1700.5,-1103.3 1697,-1093.3 1693.5,-1103.3 1700.5,-1103.3\"/>\n</g>\n<!-- 88 -->\n<g id=\"node89\" class=\"node\">\n<title>88</title>\n<polygon fill=\"none\" stroke=\"black\" points=\"2260,-1093 2136,-1093 2136,-1025 2260,-1025 2260,-1093\"/>\n<text text-anchor=\"middle\" x=\"2198\" y=\"-1077.8\" font-family=\"Helvetica,sans-Serif\" font-size=\"14.00\">X[0] &lt;= 50.5</text>\n<text text-anchor=\"middle\" x=\"2198\" y=\"-1062.8\" font-family=\"Helvetica,sans-Serif\" font-size=\"14.00\">gini = 0.593</text>\n<text text-anchor=\"middle\" x=\"2198\" y=\"-1047.8\" font-family=\"Helvetica,sans-Serif\" font-size=\"14.00\">samples = 37</text>\n<text text-anchor=\"middle\" x=\"2198\" y=\"-1032.8\" font-family=\"Helvetica,sans-Serif\" font-size=\"14.00\">value = [11, 20, 6]</text>\n</g>\n<!-- 70&#45;&gt;88 -->\n<g id=\"edge88\" class=\"edge\">\n<title>70&#45;&gt;88</title>\n<path fill=\"none\" stroke=\"black\" d=\"M1763.01,-1148.56C1856.94,-1129.44 2028.51,-1094.51 2125.75,-1074.71\"/>\n<polygon fill=\"black\" stroke=\"black\" points=\"2126.68,-1078.09 2135.78,-1072.67 2125.29,-1071.23 2126.68,-1078.09\"/>\n</g>\n<!-- 72 -->\n<g id=\"node73\" class=\"node\">\n<title>72</title>\n<polygon fill=\"none\" stroke=\"black\" points=\"1689.5,-989 1564.5,-989 1564.5,-921 1689.5,-921 1689.5,-989\"/>\n<text text-anchor=\"middle\" x=\"1627\" y=\"-973.8\" font-family=\"Helvetica,sans-Serif\" font-size=\"14.00\">X[0] &lt;= 40.5</text>\n<text text-anchor=\"middle\" x=\"1627\" y=\"-958.8\" font-family=\"Helvetica,sans-Serif\" font-size=\"14.00\">gini = 0.569</text>\n<text text-anchor=\"middle\" x=\"1627\" y=\"-943.8\" font-family=\"Helvetica,sans-Serif\" font-size=\"14.00\">samples = 101</text>\n<text text-anchor=\"middle\" x=\"1627\" y=\"-928.8\" font-family=\"Helvetica,sans-Serif\" font-size=\"14.00\">value = [48, 45, 8]</text>\n</g>\n<!-- 71&#45;&gt;72 -->\n<g id=\"edge72\" class=\"edge\">\n<title>71&#45;&gt;72</title>\n<path fill=\"none\" stroke=\"black\" d=\"M1674.27,-1024.88C1668.34,-1016.24 1661.88,-1006.82 1655.68,-997.79\"/>\n<polygon fill=\"black\" stroke=\"black\" points=\"1658.4,-995.56 1649.85,-989.3 1652.63,-999.52 1658.4,-995.56\"/>\n</g>\n<!-- 81 -->\n<g id=\"node82\" class=\"node\">\n<title>81</title>\n<polygon fill=\"none\" stroke=\"black\" points=\"1824.5,-989 1707.5,-989 1707.5,-921 1824.5,-921 1824.5,-989\"/>\n<text text-anchor=\"middle\" x=\"1766\" y=\"-973.8\" font-family=\"Helvetica,sans-Serif\" font-size=\"14.00\">X[0] &lt;= 43.5</text>\n<text text-anchor=\"middle\" x=\"1766\" y=\"-958.8\" font-family=\"Helvetica,sans-Serif\" font-size=\"14.00\">gini = 0.507</text>\n<text text-anchor=\"middle\" x=\"1766\" y=\"-943.8\" font-family=\"Helvetica,sans-Serif\" font-size=\"14.00\">samples = 23</text>\n<text text-anchor=\"middle\" x=\"1766\" y=\"-928.8\" font-family=\"Helvetica,sans-Serif\" font-size=\"14.00\">value = [14, 8, 1]</text>\n</g>\n<!-- 71&#45;&gt;81 -->\n<g id=\"edge81\" class=\"edge\">\n<title>71&#45;&gt;81</title>\n<path fill=\"none\" stroke=\"black\" d=\"M1719.4,-1024.88C1725.25,-1016.24 1731.62,-1006.82 1737.73,-997.79\"/>\n<polygon fill=\"black\" stroke=\"black\" points=\"1740.77,-999.54 1743.47,-989.3 1734.97,-995.62 1740.77,-999.54\"/>\n</g>\n<!-- 73 -->\n<g id=\"node74\" class=\"node\">\n<title>73</title>\n<polygon fill=\"none\" stroke=\"black\" points=\"1556.5,-885 1431.5,-885 1431.5,-817 1556.5,-817 1556.5,-885\"/>\n<text text-anchor=\"middle\" x=\"1494\" y=\"-869.8\" font-family=\"Helvetica,sans-Serif\" font-size=\"14.00\">X[0] &lt;= 38.5</text>\n<text text-anchor=\"middle\" x=\"1494\" y=\"-854.8\" font-family=\"Helvetica,sans-Serif\" font-size=\"14.00\">gini = 0.561</text>\n<text text-anchor=\"middle\" x=\"1494\" y=\"-839.8\" font-family=\"Helvetica,sans-Serif\" font-size=\"14.00\">samples = 93</text>\n<text text-anchor=\"middle\" x=\"1494\" y=\"-824.8\" font-family=\"Helvetica,sans-Serif\" font-size=\"14.00\">value = [48, 38, 7]</text>\n</g>\n<!-- 72&#45;&gt;73 -->\n<g id=\"edge73\" class=\"edge\">\n<title>72&#45;&gt;73</title>\n<path fill=\"none\" stroke=\"black\" d=\"M1583.82,-920.88C1571.62,-911.53 1558.23,-901.26 1545.59,-891.57\"/>\n<polygon fill=\"black\" stroke=\"black\" points=\"1547.48,-888.61 1537.42,-885.3 1543.22,-894.16 1547.48,-888.61\"/>\n</g>\n<!-- 78 -->\n<g id=\"node79\" class=\"node\">\n<title>78</title>\n<polygon fill=\"none\" stroke=\"black\" points=\"1685,-885 1575,-885 1575,-817 1685,-817 1685,-885\"/>\n<text text-anchor=\"middle\" x=\"1630\" y=\"-869.8\" font-family=\"Helvetica,sans-Serif\" font-size=\"14.00\">X[0] &lt;= 41.5</text>\n<text text-anchor=\"middle\" x=\"1630\" y=\"-854.8\" font-family=\"Helvetica,sans-Serif\" font-size=\"14.00\">gini = 0.219</text>\n<text text-anchor=\"middle\" x=\"1630\" y=\"-839.8\" font-family=\"Helvetica,sans-Serif\" font-size=\"14.00\">samples = 8</text>\n<text text-anchor=\"middle\" x=\"1630\" y=\"-824.8\" font-family=\"Helvetica,sans-Serif\" font-size=\"14.00\">value = [0, 7, 1]</text>\n</g>\n<!-- 72&#45;&gt;78 -->\n<g id=\"edge78\" class=\"edge\">\n<title>72&#45;&gt;78</title>\n<path fill=\"none\" stroke=\"black\" d=\"M1627.97,-920.88C1628.21,-912.78 1628.47,-903.98 1628.72,-895.47\"/>\n<polygon fill=\"black\" stroke=\"black\" points=\"1632.23,-895.4 1629.02,-885.3 1625.23,-895.19 1632.23,-895.4\"/>\n</g>\n<!-- 74 -->\n<g id=\"node75\" class=\"node\">\n<title>74</title>\n<polygon fill=\"none\" stroke=\"black\" points=\"1424.5,-781 1299.5,-781 1299.5,-713 1424.5,-713 1424.5,-781\"/>\n<text text-anchor=\"middle\" x=\"1362\" y=\"-765.8\" font-family=\"Helvetica,sans-Serif\" font-size=\"14.00\">X[0] &lt;= 37.5</text>\n<text text-anchor=\"middle\" x=\"1362\" y=\"-750.8\" font-family=\"Helvetica,sans-Serif\" font-size=\"14.00\">gini = 0.566</text>\n<text text-anchor=\"middle\" x=\"1362\" y=\"-735.8\" font-family=\"Helvetica,sans-Serif\" font-size=\"14.00\">samples = 90</text>\n<text text-anchor=\"middle\" x=\"1362\" y=\"-720.8\" font-family=\"Helvetica,sans-Serif\" font-size=\"14.00\">value = [45, 38, 7]</text>\n</g>\n<!-- 73&#45;&gt;74 -->\n<g id=\"edge74\" class=\"edge\">\n<title>73&#45;&gt;74</title>\n<path fill=\"none\" stroke=\"black\" d=\"M1451.14,-816.88C1439.04,-807.53 1425.75,-797.26 1413.21,-787.57\"/>\n<polygon fill=\"black\" stroke=\"black\" points=\"1415.15,-784.64 1405.09,-781.3 1410.87,-790.18 1415.15,-784.64\"/>\n</g>\n<!-- 77 -->\n<g id=\"node78\" class=\"node\">\n<title>77</title>\n<polygon fill=\"none\" stroke=\"black\" points=\"1553,-773.5 1443,-773.5 1443,-720.5 1553,-720.5 1553,-773.5\"/>\n<text text-anchor=\"middle\" x=\"1498\" y=\"-758.3\" font-family=\"Helvetica,sans-Serif\" font-size=\"14.00\">gini = 0.0</text>\n<text text-anchor=\"middle\" x=\"1498\" y=\"-743.3\" font-family=\"Helvetica,sans-Serif\" font-size=\"14.00\">samples = 3</text>\n<text text-anchor=\"middle\" x=\"1498\" y=\"-728.3\" font-family=\"Helvetica,sans-Serif\" font-size=\"14.00\">value = [3, 0, 0]</text>\n</g>\n<!-- 73&#45;&gt;77 -->\n<g id=\"edge77\" class=\"edge\">\n<title>73&#45;&gt;77</title>\n<path fill=\"none\" stroke=\"black\" d=\"M1495.3,-816.88C1495.72,-806.22 1496.18,-794.35 1496.61,-783.52\"/>\n<polygon fill=\"black\" stroke=\"black\" points=\"1500.1,-783.65 1497,-773.52 1493.11,-783.38 1500.1,-783.65\"/>\n</g>\n<!-- 75 -->\n<g id=\"node76\" class=\"node\">\n<title>75</title>\n<polygon fill=\"none\" stroke=\"black\" points=\"1424.5,-669.5 1299.5,-669.5 1299.5,-616.5 1424.5,-616.5 1424.5,-669.5\"/>\n<text text-anchor=\"middle\" x=\"1362\" y=\"-654.3\" font-family=\"Helvetica,sans-Serif\" font-size=\"14.00\">gini = 0.567</text>\n<text text-anchor=\"middle\" x=\"1362\" y=\"-639.3\" font-family=\"Helvetica,sans-Serif\" font-size=\"14.00\">samples = 51</text>\n<text text-anchor=\"middle\" x=\"1362\" y=\"-624.3\" font-family=\"Helvetica,sans-Serif\" font-size=\"14.00\">value = [25, 22, 4]</text>\n</g>\n<!-- 74&#45;&gt;75 -->\n<g id=\"edge75\" class=\"edge\">\n<title>74&#45;&gt;75</title>\n<path fill=\"none\" stroke=\"black\" d=\"M1362,-712.88C1362,-702.33 1362,-690.6 1362,-679.85\"/>\n<polygon fill=\"black\" stroke=\"black\" points=\"1365.5,-679.52 1362,-669.52 1358.5,-679.52 1365.5,-679.52\"/>\n</g>\n<!-- 76 -->\n<g id=\"node77\" class=\"node\">\n<title>76</title>\n<polygon fill=\"none\" stroke=\"black\" points=\"1567.5,-669.5 1442.5,-669.5 1442.5,-616.5 1567.5,-616.5 1567.5,-669.5\"/>\n<text text-anchor=\"middle\" x=\"1505\" y=\"-654.3\" font-family=\"Helvetica,sans-Serif\" font-size=\"14.00\">gini = 0.563</text>\n<text text-anchor=\"middle\" x=\"1505\" y=\"-639.3\" font-family=\"Helvetica,sans-Serif\" font-size=\"14.00\">samples = 39</text>\n<text text-anchor=\"middle\" x=\"1505\" y=\"-624.3\" font-family=\"Helvetica,sans-Serif\" font-size=\"14.00\">value = [20, 16, 3]</text>\n</g>\n<!-- 74&#45;&gt;76 -->\n<g id=\"edge76\" class=\"edge\">\n<title>74&#45;&gt;76</title>\n<path fill=\"none\" stroke=\"black\" d=\"M1408.43,-712.88C1425.23,-700.9 1444.16,-687.4 1460.77,-675.55\"/>\n<polygon fill=\"black\" stroke=\"black\" points=\"1463.11,-678.18 1469.22,-669.52 1459.05,-672.48 1463.11,-678.18\"/>\n</g>\n<!-- 79 -->\n<g id=\"node80\" class=\"node\">\n<title>79</title>\n<polygon fill=\"none\" stroke=\"black\" points=\"1681,-773.5 1571,-773.5 1571,-720.5 1681,-720.5 1681,-773.5\"/>\n<text text-anchor=\"middle\" x=\"1626\" y=\"-758.3\" font-family=\"Helvetica,sans-Serif\" font-size=\"14.00\">gini = 0.245</text>\n<text text-anchor=\"middle\" x=\"1626\" y=\"-743.3\" font-family=\"Helvetica,sans-Serif\" font-size=\"14.00\">samples = 7</text>\n<text text-anchor=\"middle\" x=\"1626\" y=\"-728.3\" font-family=\"Helvetica,sans-Serif\" font-size=\"14.00\">value = [0, 6, 1]</text>\n</g>\n<!-- 78&#45;&gt;79 -->\n<g id=\"edge79\" class=\"edge\">\n<title>78&#45;&gt;79</title>\n<path fill=\"none\" stroke=\"black\" d=\"M1628.7,-816.88C1628.28,-806.22 1627.82,-794.35 1627.39,-783.52\"/>\n<polygon fill=\"black\" stroke=\"black\" points=\"1630.89,-783.38 1627,-773.52 1623.9,-783.65 1630.89,-783.38\"/>\n</g>\n<!-- 80 -->\n<g id=\"node81\" class=\"node\">\n<title>80</title>\n<polygon fill=\"none\" stroke=\"black\" points=\"1809,-773.5 1699,-773.5 1699,-720.5 1809,-720.5 1809,-773.5\"/>\n<text text-anchor=\"middle\" x=\"1754\" y=\"-758.3\" font-family=\"Helvetica,sans-Serif\" font-size=\"14.00\">gini = 0.0</text>\n<text text-anchor=\"middle\" x=\"1754\" y=\"-743.3\" font-family=\"Helvetica,sans-Serif\" font-size=\"14.00\">samples = 1</text>\n<text text-anchor=\"middle\" x=\"1754\" y=\"-728.3\" font-family=\"Helvetica,sans-Serif\" font-size=\"14.00\">value = [0, 1, 0]</text>\n</g>\n<!-- 78&#45;&gt;80 -->\n<g id=\"edge80\" class=\"edge\">\n<title>78&#45;&gt;80</title>\n<path fill=\"none\" stroke=\"black\" d=\"M1670.26,-816.88C1684.7,-805.01 1700.94,-791.65 1715.25,-779.88\"/>\n<polygon fill=\"black\" stroke=\"black\" points=\"1717.48,-782.58 1722.98,-773.52 1713.03,-777.17 1717.48,-782.58\"/>\n</g>\n<!-- 82 -->\n<g id=\"node83\" class=\"node\">\n<title>82</title>\n<polygon fill=\"none\" stroke=\"black\" points=\"1816,-877.5 1706,-877.5 1706,-824.5 1816,-824.5 1816,-877.5\"/>\n<text text-anchor=\"middle\" x=\"1761\" y=\"-862.3\" font-family=\"Helvetica,sans-Serif\" font-size=\"14.00\">gini = 0.0</text>\n<text text-anchor=\"middle\" x=\"1761\" y=\"-847.3\" font-family=\"Helvetica,sans-Serif\" font-size=\"14.00\">samples = 3</text>\n<text text-anchor=\"middle\" x=\"1761\" y=\"-832.3\" font-family=\"Helvetica,sans-Serif\" font-size=\"14.00\">value = [3, 0, 0]</text>\n</g>\n<!-- 81&#45;&gt;82 -->\n<g id=\"edge82\" class=\"edge\">\n<title>81&#45;&gt;82</title>\n<path fill=\"none\" stroke=\"black\" d=\"M1764.38,-920.88C1763.85,-910.22 1763.27,-898.35 1762.74,-887.52\"/>\n<polygon fill=\"black\" stroke=\"black\" points=\"1766.24,-887.34 1762.25,-877.52 1759.24,-887.68 1766.24,-887.34\"/>\n</g>\n<!-- 83 -->\n<g id=\"node84\" class=\"node\">\n<title>83</title>\n<polygon fill=\"none\" stroke=\"black\" points=\"1950,-885 1834,-885 1834,-817 1950,-817 1950,-885\"/>\n<text text-anchor=\"middle\" x=\"1892\" y=\"-869.8\" font-family=\"Helvetica,sans-Serif\" font-size=\"14.00\">X[0] &lt;= 44.5</text>\n<text text-anchor=\"middle\" x=\"1892\" y=\"-854.8\" font-family=\"Helvetica,sans-Serif\" font-size=\"14.00\">gini = 0.535</text>\n<text text-anchor=\"middle\" x=\"1892\" y=\"-839.8\" font-family=\"Helvetica,sans-Serif\" font-size=\"14.00\">samples = 20</text>\n<text text-anchor=\"middle\" x=\"1892\" y=\"-824.8\" font-family=\"Helvetica,sans-Serif\" font-size=\"14.00\">value = [11, 8, 1]</text>\n</g>\n<!-- 81&#45;&gt;83 -->\n<g id=\"edge83\" class=\"edge\">\n<title>81&#45;&gt;83</title>\n<path fill=\"none\" stroke=\"black\" d=\"M1806.91,-920.88C1818.35,-911.62 1830.91,-901.45 1842.78,-891.85\"/>\n<polygon fill=\"black\" stroke=\"black\" points=\"1845.3,-894.31 1850.87,-885.3 1840.89,-888.87 1845.3,-894.31\"/>\n</g>\n<!-- 84 -->\n<g id=\"node85\" class=\"node\">\n<title>84</title>\n<polygon fill=\"none\" stroke=\"black\" points=\"1937,-773.5 1827,-773.5 1827,-720.5 1937,-720.5 1937,-773.5\"/>\n<text text-anchor=\"middle\" x=\"1882\" y=\"-758.3\" font-family=\"Helvetica,sans-Serif\" font-size=\"14.00\">gini = 0.5</text>\n<text text-anchor=\"middle\" x=\"1882\" y=\"-743.3\" font-family=\"Helvetica,sans-Serif\" font-size=\"14.00\">samples = 4</text>\n<text text-anchor=\"middle\" x=\"1882\" y=\"-728.3\" font-family=\"Helvetica,sans-Serif\" font-size=\"14.00\">value = [2, 2, 0]</text>\n</g>\n<!-- 83&#45;&gt;84 -->\n<g id=\"edge84\" class=\"edge\">\n<title>83&#45;&gt;84</title>\n<path fill=\"none\" stroke=\"black\" d=\"M1888.75,-816.88C1887.71,-806.22 1886.54,-794.35 1885.48,-783.52\"/>\n<polygon fill=\"black\" stroke=\"black\" points=\"1888.96,-783.13 1884.5,-773.52 1881.99,-783.81 1888.96,-783.13\"/>\n</g>\n<!-- 85 -->\n<g id=\"node86\" class=\"node\">\n<title>85</title>\n<polygon fill=\"none\" stroke=\"black\" points=\"2065,-781 1955,-781 1955,-713 2065,-713 2065,-781\"/>\n<text text-anchor=\"middle\" x=\"2010\" y=\"-765.8\" font-family=\"Helvetica,sans-Serif\" font-size=\"14.00\">X[0] &lt;= 45.5</text>\n<text text-anchor=\"middle\" x=\"2010\" y=\"-750.8\" font-family=\"Helvetica,sans-Serif\" font-size=\"14.00\">gini = 0.539</text>\n<text text-anchor=\"middle\" x=\"2010\" y=\"-735.8\" font-family=\"Helvetica,sans-Serif\" font-size=\"14.00\">samples = 16</text>\n<text text-anchor=\"middle\" x=\"2010\" y=\"-720.8\" font-family=\"Helvetica,sans-Serif\" font-size=\"14.00\">value = [9, 6, 1]</text>\n</g>\n<!-- 83&#45;&gt;85 -->\n<g id=\"edge85\" class=\"edge\">\n<title>83&#45;&gt;85</title>\n<path fill=\"none\" stroke=\"black\" d=\"M1930.31,-816.88C1941.03,-807.62 1952.79,-797.45 1963.9,-787.85\"/>\n<polygon fill=\"black\" stroke=\"black\" points=\"1966.2,-790.49 1971.48,-781.3 1961.62,-785.19 1966.2,-790.49\"/>\n</g>\n<!-- 86 -->\n<g id=\"node87\" class=\"node\">\n<title>86</title>\n<polygon fill=\"none\" stroke=\"black\" points=\"1937,-669.5 1827,-669.5 1827,-616.5 1937,-616.5 1937,-669.5\"/>\n<text text-anchor=\"middle\" x=\"1882\" y=\"-654.3\" font-family=\"Helvetica,sans-Serif\" font-size=\"14.00\">gini = 0.541</text>\n<text text-anchor=\"middle\" x=\"1882\" y=\"-639.3\" font-family=\"Helvetica,sans-Serif\" font-size=\"14.00\">samples = 14</text>\n<text text-anchor=\"middle\" x=\"1882\" y=\"-624.3\" font-family=\"Helvetica,sans-Serif\" font-size=\"14.00\">value = [8, 5, 1]</text>\n</g>\n<!-- 85&#45;&gt;86 -->\n<g id=\"edge86\" class=\"edge\">\n<title>85&#45;&gt;86</title>\n<path fill=\"none\" stroke=\"black\" d=\"M1968.44,-712.88C1953.54,-701.01 1936.77,-687.65 1922,-675.88\"/>\n<polygon fill=\"black\" stroke=\"black\" points=\"1924.03,-673.01 1914.03,-669.52 1919.66,-678.49 1924.03,-673.01\"/>\n</g>\n<!-- 87 -->\n<g id=\"node88\" class=\"node\">\n<title>87</title>\n<polygon fill=\"none\" stroke=\"black\" points=\"2065,-669.5 1955,-669.5 1955,-616.5 2065,-616.5 2065,-669.5\"/>\n<text text-anchor=\"middle\" x=\"2010\" y=\"-654.3\" font-family=\"Helvetica,sans-Serif\" font-size=\"14.00\">gini = 0.5</text>\n<text text-anchor=\"middle\" x=\"2010\" y=\"-639.3\" font-family=\"Helvetica,sans-Serif\" font-size=\"14.00\">samples = 2</text>\n<text text-anchor=\"middle\" x=\"2010\" y=\"-624.3\" font-family=\"Helvetica,sans-Serif\" font-size=\"14.00\">value = [1, 1, 0]</text>\n</g>\n<!-- 85&#45;&gt;87 -->\n<g id=\"edge87\" class=\"edge\">\n<title>85&#45;&gt;87</title>\n<path fill=\"none\" stroke=\"black\" d=\"M2010,-712.88C2010,-702.33 2010,-690.6 2010,-679.85\"/>\n<polygon fill=\"black\" stroke=\"black\" points=\"2013.5,-679.52 2010,-669.52 2006.5,-679.52 2013.5,-679.52\"/>\n</g>\n<!-- 89 -->\n<g id=\"node90\" class=\"node\">\n<title>89</title>\n<polygon fill=\"none\" stroke=\"black\" points=\"2260.5,-989 2135.5,-989 2135.5,-921 2260.5,-921 2260.5,-989\"/>\n<text text-anchor=\"middle\" x=\"2198\" y=\"-973.8\" font-family=\"Helvetica,sans-Serif\" font-size=\"14.00\">X[0] &lt;= 49.5</text>\n<text text-anchor=\"middle\" x=\"2198\" y=\"-958.8\" font-family=\"Helvetica,sans-Serif\" font-size=\"14.00\">gini = 0.602</text>\n<text text-anchor=\"middle\" x=\"2198\" y=\"-943.8\" font-family=\"Helvetica,sans-Serif\" font-size=\"14.00\">samples = 28</text>\n<text text-anchor=\"middle\" x=\"2198\" y=\"-928.8\" font-family=\"Helvetica,sans-Serif\" font-size=\"14.00\">value = [10, 14, 4]</text>\n</g>\n<!-- 88&#45;&gt;89 -->\n<g id=\"edge89\" class=\"edge\">\n<title>88&#45;&gt;89</title>\n<path fill=\"none\" stroke=\"black\" d=\"M2198,-1024.88C2198,-1016.78 2198,-1007.98 2198,-999.47\"/>\n<polygon fill=\"black\" stroke=\"black\" points=\"2201.5,-999.3 2198,-989.3 2194.5,-999.3 2201.5,-999.3\"/>\n</g>\n<!-- 96 -->\n<g id=\"node97\" class=\"node\">\n<title>96</title>\n<polygon fill=\"none\" stroke=\"black\" points=\"2449,-989 2339,-989 2339,-921 2449,-921 2449,-989\"/>\n<text text-anchor=\"middle\" x=\"2394\" y=\"-973.8\" font-family=\"Helvetica,sans-Serif\" font-size=\"14.00\">X[0] &lt;= 51.5</text>\n<text text-anchor=\"middle\" x=\"2394\" y=\"-958.8\" font-family=\"Helvetica,sans-Serif\" font-size=\"14.00\">gini = 0.494</text>\n<text text-anchor=\"middle\" x=\"2394\" y=\"-943.8\" font-family=\"Helvetica,sans-Serif\" font-size=\"14.00\">samples = 9</text>\n<text text-anchor=\"middle\" x=\"2394\" y=\"-928.8\" font-family=\"Helvetica,sans-Serif\" font-size=\"14.00\">value = [1, 6, 2]</text>\n</g>\n<!-- 88&#45;&gt;96 -->\n<g id=\"edge96\" class=\"edge\">\n<title>88&#45;&gt;96</title>\n<path fill=\"none\" stroke=\"black\" d=\"M2260.02,-1025.73C2282.19,-1014.18 2307.23,-1001.16 2329.6,-989.51\"/>\n<polygon fill=\"black\" stroke=\"black\" points=\"2331.43,-992.51 2338.69,-984.79 2328.2,-986.3 2331.43,-992.51\"/>\n</g>\n<!-- 90 -->\n<g id=\"node91\" class=\"node\">\n<title>90</title>\n<polygon fill=\"none\" stroke=\"black\" points=\"2193,-885 2083,-885 2083,-817 2193,-817 2193,-885\"/>\n<text text-anchor=\"middle\" x=\"2138\" y=\"-869.8\" font-family=\"Helvetica,sans-Serif\" font-size=\"14.00\">X[0] &lt;= 48.5</text>\n<text text-anchor=\"middle\" x=\"2138\" y=\"-854.8\" font-family=\"Helvetica,sans-Serif\" font-size=\"14.00\">gini = 0.631</text>\n<text text-anchor=\"middle\" x=\"2138\" y=\"-839.8\" font-family=\"Helvetica,sans-Serif\" font-size=\"14.00\">samples = 15</text>\n<text text-anchor=\"middle\" x=\"2138\" y=\"-824.8\" font-family=\"Helvetica,sans-Serif\" font-size=\"14.00\">value = [5, 7, 3]</text>\n</g>\n<!-- 89&#45;&gt;90 -->\n<g id=\"edge90\" class=\"edge\">\n<title>89&#45;&gt;90</title>\n<path fill=\"none\" stroke=\"black\" d=\"M2178.52,-920.88C2173.49,-912.33 2168.01,-903.01 2162.75,-894.07\"/>\n<polygon fill=\"black\" stroke=\"black\" points=\"2165.67,-892.14 2157.59,-885.3 2159.64,-895.69 2165.67,-892.14\"/>\n</g>\n<!-- 95 -->\n<g id=\"node96\" class=\"node\">\n<title>95</title>\n<polygon fill=\"none\" stroke=\"black\" points=\"2321,-877.5 2211,-877.5 2211,-824.5 2321,-824.5 2321,-877.5\"/>\n<text text-anchor=\"middle\" x=\"2266\" y=\"-862.3\" font-family=\"Helvetica,sans-Serif\" font-size=\"14.00\">gini = 0.556</text>\n<text text-anchor=\"middle\" x=\"2266\" y=\"-847.3\" font-family=\"Helvetica,sans-Serif\" font-size=\"14.00\">samples = 13</text>\n<text text-anchor=\"middle\" x=\"2266\" y=\"-832.3\" font-family=\"Helvetica,sans-Serif\" font-size=\"14.00\">value = [5, 7, 1]</text>\n</g>\n<!-- 89&#45;&gt;95 -->\n<g id=\"edge95\" class=\"edge\">\n<title>89&#45;&gt;95</title>\n<path fill=\"none\" stroke=\"black\" d=\"M2220.08,-920.88C2227.56,-909.67 2235.92,-897.13 2243.43,-885.85\"/>\n<polygon fill=\"black\" stroke=\"black\" points=\"2246.35,-887.78 2248.99,-877.52 2240.53,-883.9 2246.35,-887.78\"/>\n</g>\n<!-- 91 -->\n<g id=\"node92\" class=\"node\">\n<title>91</title>\n<polygon fill=\"none\" stroke=\"black\" points=\"2193,-781 2083,-781 2083,-713 2193,-713 2193,-781\"/>\n<text text-anchor=\"middle\" x=\"2138\" y=\"-765.8\" font-family=\"Helvetica,sans-Serif\" font-size=\"14.00\">X[0] &lt;= 47.5</text>\n<text text-anchor=\"middle\" x=\"2138\" y=\"-750.8\" font-family=\"Helvetica,sans-Serif\" font-size=\"14.00\">gini = 0.602</text>\n<text text-anchor=\"middle\" x=\"2138\" y=\"-735.8\" font-family=\"Helvetica,sans-Serif\" font-size=\"14.00\">samples = 14</text>\n<text text-anchor=\"middle\" x=\"2138\" y=\"-720.8\" font-family=\"Helvetica,sans-Serif\" font-size=\"14.00\">value = [5, 7, 2]</text>\n</g>\n<!-- 90&#45;&gt;91 -->\n<g id=\"edge91\" class=\"edge\">\n<title>90&#45;&gt;91</title>\n<path fill=\"none\" stroke=\"black\" d=\"M2138,-816.88C2138,-808.78 2138,-799.98 2138,-791.47\"/>\n<polygon fill=\"black\" stroke=\"black\" points=\"2141.5,-791.3 2138,-781.3 2134.5,-791.3 2141.5,-791.3\"/>\n</g>\n<!-- 94 -->\n<g id=\"node95\" class=\"node\">\n<title>94</title>\n<polygon fill=\"none\" stroke=\"black\" points=\"2321,-773.5 2211,-773.5 2211,-720.5 2321,-720.5 2321,-773.5\"/>\n<text text-anchor=\"middle\" x=\"2266\" y=\"-758.3\" font-family=\"Helvetica,sans-Serif\" font-size=\"14.00\">gini = 0.0</text>\n<text text-anchor=\"middle\" x=\"2266\" y=\"-743.3\" font-family=\"Helvetica,sans-Serif\" font-size=\"14.00\">samples = 1</text>\n<text text-anchor=\"middle\" x=\"2266\" y=\"-728.3\" font-family=\"Helvetica,sans-Serif\" font-size=\"14.00\">value = [0, 0, 1]</text>\n</g>\n<!-- 90&#45;&gt;94 -->\n<g id=\"edge94\" class=\"edge\">\n<title>90&#45;&gt;94</title>\n<path fill=\"none\" stroke=\"black\" d=\"M2179.56,-816.88C2194.46,-805.01 2211.23,-791.65 2226,-779.88\"/>\n<polygon fill=\"black\" stroke=\"black\" points=\"2228.34,-782.49 2233.97,-773.52 2223.97,-777.01 2228.34,-782.49\"/>\n</g>\n<!-- 92 -->\n<g id=\"node93\" class=\"node\">\n<title>92</title>\n<polygon fill=\"none\" stroke=\"black\" points=\"2193,-669.5 2083,-669.5 2083,-616.5 2193,-616.5 2193,-669.5\"/>\n<text text-anchor=\"middle\" x=\"2138\" y=\"-654.3\" font-family=\"Helvetica,sans-Serif\" font-size=\"14.00\">gini = 0.611</text>\n<text text-anchor=\"middle\" x=\"2138\" y=\"-639.3\" font-family=\"Helvetica,sans-Serif\" font-size=\"14.00\">samples = 12</text>\n<text text-anchor=\"middle\" x=\"2138\" y=\"-624.3\" font-family=\"Helvetica,sans-Serif\" font-size=\"14.00\">value = [4, 6, 2]</text>\n</g>\n<!-- 91&#45;&gt;92 -->\n<g id=\"edge92\" class=\"edge\">\n<title>91&#45;&gt;92</title>\n<path fill=\"none\" stroke=\"black\" d=\"M2138,-712.88C2138,-702.33 2138,-690.6 2138,-679.85\"/>\n<polygon fill=\"black\" stroke=\"black\" points=\"2141.5,-679.52 2138,-669.52 2134.5,-679.52 2141.5,-679.52\"/>\n</g>\n<!-- 93 -->\n<g id=\"node94\" class=\"node\">\n<title>93</title>\n<polygon fill=\"none\" stroke=\"black\" points=\"2321,-669.5 2211,-669.5 2211,-616.5 2321,-616.5 2321,-669.5\"/>\n<text text-anchor=\"middle\" x=\"2266\" y=\"-654.3\" font-family=\"Helvetica,sans-Serif\" font-size=\"14.00\">gini = 0.5</text>\n<text text-anchor=\"middle\" x=\"2266\" y=\"-639.3\" font-family=\"Helvetica,sans-Serif\" font-size=\"14.00\">samples = 2</text>\n<text text-anchor=\"middle\" x=\"2266\" y=\"-624.3\" font-family=\"Helvetica,sans-Serif\" font-size=\"14.00\">value = [1, 1, 0]</text>\n</g>\n<!-- 91&#45;&gt;93 -->\n<g id=\"edge93\" class=\"edge\">\n<title>91&#45;&gt;93</title>\n<path fill=\"none\" stroke=\"black\" d=\"M2179.56,-712.88C2194.46,-701.01 2211.23,-687.65 2226,-675.88\"/>\n<polygon fill=\"black\" stroke=\"black\" points=\"2228.34,-678.49 2233.97,-669.52 2223.97,-673.01 2228.34,-678.49\"/>\n</g>\n<!-- 97 -->\n<g id=\"node98\" class=\"node\">\n<title>97</title>\n<polygon fill=\"none\" stroke=\"black\" points=\"2449,-877.5 2339,-877.5 2339,-824.5 2449,-824.5 2449,-877.5\"/>\n<text text-anchor=\"middle\" x=\"2394\" y=\"-862.3\" font-family=\"Helvetica,sans-Serif\" font-size=\"14.00\">gini = 0.531</text>\n<text text-anchor=\"middle\" x=\"2394\" y=\"-847.3\" font-family=\"Helvetica,sans-Serif\" font-size=\"14.00\">samples = 8</text>\n<text text-anchor=\"middle\" x=\"2394\" y=\"-832.3\" font-family=\"Helvetica,sans-Serif\" font-size=\"14.00\">value = [1, 5, 2]</text>\n</g>\n<!-- 96&#45;&gt;97 -->\n<g id=\"edge97\" class=\"edge\">\n<title>96&#45;&gt;97</title>\n<path fill=\"none\" stroke=\"black\" d=\"M2394,-920.88C2394,-910.33 2394,-898.6 2394,-887.85\"/>\n<polygon fill=\"black\" stroke=\"black\" points=\"2397.5,-887.52 2394,-877.52 2390.5,-887.52 2397.5,-887.52\"/>\n</g>\n<!-- 98 -->\n<g id=\"node99\" class=\"node\">\n<title>98</title>\n<polygon fill=\"none\" stroke=\"black\" points=\"2577,-877.5 2467,-877.5 2467,-824.5 2577,-824.5 2577,-877.5\"/>\n<text text-anchor=\"middle\" x=\"2522\" y=\"-862.3\" font-family=\"Helvetica,sans-Serif\" font-size=\"14.00\">gini = 0.0</text>\n<text text-anchor=\"middle\" x=\"2522\" y=\"-847.3\" font-family=\"Helvetica,sans-Serif\" font-size=\"14.00\">samples = 1</text>\n<text text-anchor=\"middle\" x=\"2522\" y=\"-832.3\" font-family=\"Helvetica,sans-Serif\" font-size=\"14.00\">value = [0, 1, 0]</text>\n</g>\n<!-- 96&#45;&gt;98 -->\n<g id=\"edge98\" class=\"edge\">\n<title>96&#45;&gt;98</title>\n<path fill=\"none\" stroke=\"black\" d=\"M2435.56,-920.88C2450.46,-909.01 2467.23,-895.65 2482,-883.88\"/>\n<polygon fill=\"black\" stroke=\"black\" points=\"2484.34,-886.49 2489.97,-877.52 2479.97,-881.01 2484.34,-886.49\"/>\n</g>\n</g>\n</svg>\n",
      "text/plain": [
       "<graphviz.sources.Source at 0x1b0bddf1d00>"
      ]
     },
     "execution_count": 27,
     "metadata": {},
     "output_type": "execute_result"
    }
   ],
   "source": [
    "import graphviz\n",
    "\n",
    "#Save tree as dot file\n",
    "dot_data = tree.export_graphviz(tree_model, out_file=None)\n",
    "graph = graphviz.Source(dot_data)\n",
    "graph"
   ]
  },
  {
   "cell_type": "code",
   "execution_count": 29,
   "metadata": {},
   "outputs": [
    {
     "name": "stdout",
     "output_type": "stream",
     "text": [
      "0.35714285714285715\n",
      "0.5167785234899329\n",
      "0.8571428571428571\n",
      "0.5416666666666666\n",
      "0.3333333333333333\n",
      "0.56\n",
      "0.43137254901960786\n",
      "0.5384615384615384\n",
      "0.41025641025641024\n"
     ]
    }
   ],
   "source": [
    "#Get Pills Possession Probability\n",
    "\n",
    "preds = tree_model.predict_proba(X= pd.DataFrame(encoded_country))\n",
    "\n",
    "Argentina = preds[wfd['Countries (NEW)'] == 'Argentina'][0][1]\n",
    "Mexico = preds[wfd['Countries (NEW)'] == 'Mexico'][0][1]\n",
    "Senegal = preds[wfd['Countries (NEW)'] == 'Senegal'][0][1]\n",
    "Bolivia = preds[wfd['Countries (NEW)'] == 'Bolivia'][0][1]\n",
    "India = preds[wfd['Countries (NEW)'] == 'India'][0][1]\n",
    "Colombia = preds[wfd['Countries (NEW)'] == 'Colombia'][0][1]\n",
    "Peru = preds[wfd['Countries (NEW)'] == 'Peru'][0][1]\n",
    "United_States_of_America = preds[wfd['Countries (NEW)'] == 'United States of America, The'][0][1]\n",
    "Philippines = preds[wfd['Countries (NEW)'] == 'Philippines'][0][1]\n",
    "\n",
    "print(Argentina)\n",
    "print(Mexico)\n",
    "print(Senegal)\n",
    "print(Bolivia)\n",
    "print(India)\n",
    "print(Colombia)\n",
    "print(Peru)\n",
    "print(United_States_of_America)\n",
    "print(Philippines)\n",
    "\n"
   ]
  },
  {
   "cell_type": "code",
   "execution_count": null,
   "metadata": {},
   "outputs": [],
   "source": [
    "##\n",
    " '' '' '' ''\n",
    " '' '' , The' 'Philippines' 'Guinea'\n",
    " 'Kenya' 'Democratic Republic of the Congo (DRC)' 'Cameroon' 'Chile'\n",
    " 'Brazil' 'Guatemala' 'El Salvador' 'Ecuador' 'Tanzania' 'Spain' 'Ghana'\n",
    " 'Angola' 'Togo' 'Paraguay' 'Uganda' 'Ethiopia'\n",
    " 'Côte d’Ivoire (Ivory Coast)' 'Sierra Leone' 'Venezuela'\n",
    " 'United Arab Emirates, The' 'Costa Rica' 'Mozambique' 'Burundi'\n",
    " 'Nicaragua' 'Hong Kong' 'Belgium' 'Zimbabwe' 'South Africa' 'Nigeria'\n",
    " 'Liberia' 'United Kingdom, The' 'Italy' 'Dominican Republic' 'Indonesia'\n",
    " 'Gabon' 'Panama' 'Benin' 'Portugal' 'Egypt' 'Botswana' 'Burkina Faso'\n",
    " 'Saudi Arabia'"
   ]
  },
  {
   "cell_type": "code",
   "execution_count": 1,
   "metadata": {},
   "outputs": [
    {
     "ename": "NameError",
     "evalue": "name 'wfd' is not defined",
     "output_type": "error",
     "traceback": [
      "\u001b[1;31m---------------------------------------------------------------------------\u001b[0m",
      "\u001b[1;31mNameError\u001b[0m                                 Traceback (most recent call last)",
      "\u001b[1;32m~\\AppData\\Local\\Temp\\ipykernel_10932\\2804699016.py\u001b[0m in \u001b[0;36m<module>\u001b[1;34m\u001b[0m\n\u001b[1;32m----> 1\u001b[1;33m \u001b[0mwfd\u001b[0m\u001b[1;33m.\u001b[0m\u001b[0minfo\u001b[0m\u001b[1;33m(\u001b[0m\u001b[1;33m)\u001b[0m\u001b[1;33m\u001b[0m\u001b[1;33m\u001b[0m\u001b[0m\n\u001b[0m",
      "\u001b[1;31mNameError\u001b[0m: name 'wfd' is not defined"
     ]
    }
   ],
   "source": [
    "wfd.info()"
   ]
  },
  {
   "cell_type": "code",
   "execution_count": null,
   "metadata": {},
   "outputs": [],
   "source": []
  },
  {
   "attachments": {},
   "cell_type": "markdown",
   "metadata": {},
   "source": [
    "**The data shows the following based on my examination for the Women First Digital Google Analytics Dataset and the Counselling Referral Dataset.**\n",
    "\n",
    "- For countries that utilize this service, **Nigeria has the fewest users**, while **India had the most users.**\n",
    "\n",
    "- I also deduced from my research that **Brazil has the highest pages/session rate**, while **Kenya had the least pages/session rate.**\n",
    "\n",
    "- My study led me to conclude that **more women than men visit the website,** with a not so large percentage margin of 53.4% to 46.6%\n",
    "\n",
    "- My study led me to conclude that **more young adults and adults visit the website more frequently as regard to the other categories,** with **Young Adult** being 34.3% as the highesst and **Elders**  being 3.74% as the least.\n",
    "\n",
    "- I also deduced that the **\"/abortion-pill-information\"** page is the most common website page being sought after by users due to the high \"Unique Page Views\"\n",
    "\n",
    "- I can confirm that **more users** utilize the **organic search channel**, rather than the other channels and **Email channel** is the **least utilised by users.**\n",
    "\n",
    "- My study led me to conclude that the **Organic Search** has been that channel that a lot of new users have utilised to view the site and the **email** channel is not being used enough."
   ]
  },
  {
   "cell_type": "markdown",
   "metadata": {},
   "source": []
  }
 ],
 "metadata": {
  "kernelspec": {
   "display_name": "base",
   "language": "python",
   "name": "python3"
  },
  "language_info": {
   "codemirror_mode": {
    "name": "ipython",
    "version": 3
   },
   "file_extension": ".py",
   "mimetype": "text/x-python",
   "name": "python",
   "nbconvert_exporter": "python",
   "pygments_lexer": "ipython3",
   "version": "3.9.13"
  },
  "orig_nbformat": 4,
  "vscode": {
   "interpreter": {
    "hash": "263930470851f494f0ed2879c35b57985588df20f9e529b86e97dd5eb9ddc466"
   }
  }
 },
 "nbformat": 4,
 "nbformat_minor": 2
}
